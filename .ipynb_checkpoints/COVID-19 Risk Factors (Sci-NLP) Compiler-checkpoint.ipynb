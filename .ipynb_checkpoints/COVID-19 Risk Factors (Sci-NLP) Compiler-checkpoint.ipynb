{
 "cells": [
  {
   "cell_type": "markdown",
   "metadata": {},
   "source": [
    "# COVID-19 Open Research Dataset Challenge (CORD-19)\n",
    "An AI challenge with AI2, CZI, MSR, Georgetown, NIH & The White House\n",
    "\n",
    "### Task: What do we know about COVID-19 risk factors?"
   ]
  },
  {
   "cell_type": "markdown",
   "metadata": {},
   "source": [
    "---"
   ]
  },
  {
   "cell_type": "markdown",
   "metadata": {},
   "source": [
    "### About the data"
   ]
  },
  {
   "cell_type": "markdown",
   "metadata": {},
   "source": [
    "**Information** \n",
    "1. **Metadata** for papers from these sources are combined: CZI, PMC, BioRxiv/MedRxiv.\n",
    "(total records 29500)\n",
    "    - **CZI** 1236 records\n",
    "    - **PMC** 27337\n",
    "    - **bioRxiv** 566\n",
    "    - **medRxiv** 361\n",
    "2. 17K of the paper records have PDFs and the hash of the PDFs are in 'sha'<br>\n",
    "3. For PMC sourced papers, one paper's metadata can be associated with one or more PDFs/shas under that paper - a PDF/sha correponding to the main article, and possibly additional PDF/shas corresponding to supporting materials for the article.<br>\n",
    "4. 13K of the PDFs were processed with fulltext ('has_full_text'=True)<br>\n",
    "5. Various 'keys' are populated with the metadata:\n",
    "    - 'pmcid': populated for all PMC paper records (27337 non null)\n",
    "\t- 'doi': populated for all BioRxiv/MedRxiv paper records and most of the other records (26357 non null)\n",
    "\t- 'WHO #Covidence': populated for all CZI records and none of the other records (1236 non null)\n",
    "\t- 'pubmed_id': populated for some of the records\n",
    "\t- 'Microsoft Academic Paper ID': populated for some of the records\n",
    "---\n",
    "Glossary:<br>\n",
    "**Chan Zuckerberg Initiative (CZI)**<br>\n",
    "**PubMed Central (PMC)** is a free digital repository that archives publicly accessible full-text scholarly articles that have been published within the biomedical and life sciences journal literature.<br>\n",
    "**BioRxiv** (pronounced \"bio-archive\") is an open access preprint repository for the biological sciences<br>\n",
    "**medRxiv. medRxiv** (pronounced med archive) is a preprint service for the medicine and health sciences and provides a free online platform for researchers to share, comment, and receive feedback on their work. Information among scientists spreads slowly, and often incompletely.\n",
    "\n",
    "---\n",
    "**The provided data are organized as followed**<br>\n",
    "- Commercial use subset (includes PMC content) -- 9118 full text (new: 128), 183Mb\n",
    "- Non-commercial use subset (includes PMC content) -- 2353 full text (new: 385), 41Mb\n",
    "- Custom license subset -- 16959 full text (new: 15533), 345Mb\n",
    "- bioRxiv/medRxiv subset (pre-prints that are not peer reviewed) -- 885 full text (new: 110), 14Mb\n",
    "- Metadata file -- 60Mb\n",
    "\n",
    "  #### [More details on dataset](https://pages.semanticscholar.org/coronavirus-research)"
   ]
  },
  {
   "cell_type": "markdown",
   "metadata": {},
   "source": [
    "---"
   ]
  },
  {
   "cell_type": "markdown",
   "metadata": {},
   "source": [
    "# The Appproach"
   ]
  },
  {
   "cell_type": "markdown",
   "metadata": {},
   "source": [
    "This is a straight forward approach that used Allen Institute For AI SciSpacy model.<br>\n",
    "- Step 1: transform the quoted factors (see. initial brief) in patterns via SciSpaCy. They will be called \"Theme\".<br>\n",
    "- Step 2: then, match the Themes among the 29500 articles (XIV) due to SpaCy model. Here, we retrieve THEME, KEYWORD, PAPER_ID.<br>\n",
    "- Step 3: from there TITLE, AUTHORS, SOURCE, ... are available if the data are available in the Metadata document.\n",
    "<br><br>\n",
    "1. Pros:\n",
    "- provide quote, paper id, title, authors from article when the wanted 'Theme' is detected,\n",
    "- straight forward approach especially in the rush context,\n",
    "- use of models from Allen Institute of AI,\n",
    "- prune the volume of documents when searching a specific topic.\n",
    "<br><br>\n",
    "2. Cons:\n",
    "- basic approach: does not provide text summarization nor sentiment analysis,\n",
    "- when matching/extraction actions are done, some manual actions are required."
   ]
  },
  {
   "cell_type": "markdown",
   "metadata": {},
   "source": [
    "## Patternizing the themes\n",
    "This is what we have to find among the 29 500 archives."
   ]
  },
  {
   "cell_type": "markdown",
   "metadata": {},
   "source": [
    "## Transform the required themes"
   ]
  },
  {
   "cell_type": "code",
   "execution_count": 92,
   "metadata": {},
   "outputs": [],
   "source": [
    "import pandas as pd\n",
    "from io import StringIO"
   ]
  },
  {
   "cell_type": "markdown",
   "metadata": {},
   "source": [
    "### Initial form of the themes:\n",
    "> What do we know about COVID-19 risk factors? What have we learned from epidemiological studies?<br>\n",
    "<br>Specifically, we want to know what the literature reports about:\n",
    "1. Data on potential risks factors\n",
    "    - Smoking, pre-existing pulmonary disease\n",
    "    - Co-infections (determine whether co-existing respiratory/viral infections make the virus more transmissible or virulent) and other co-morbidities\n",
    "    - Neonates and pregnant women\n",
    "    - Socio-economic and behavioral factors to understand the economic impact of the virus and whether there were differences.\n",
    "2. Transmission dynamics of the virus, including the basic reproductive number, incubation period, serial interval, modes of transmission and environmental factors\n",
    "3. Severity of disease, including risk of fatality among symptomatic hospitalized patients, and high-risk patient groups\n",
    "4. Susceptibility of populations\n",
    "5. Public health mitigation measures that could be effective for control"
   ]
  },
  {
   "cell_type": "markdown",
   "metadata": {},
   "source": [
    "### Keeping track of record of the themes by exporting them as .csv"
   ]
  },
  {
   "cell_type": "code",
   "execution_count": 93,
   "metadata": {},
   "outputs": [
    {
     "data": {
      "text/html": [
       "<div>\n",
       "<style scoped>\n",
       "    .dataframe tbody tr th:only-of-type {\n",
       "        vertical-align: middle;\n",
       "    }\n",
       "\n",
       "    .dataframe tbody tr th {\n",
       "        vertical-align: top;\n",
       "    }\n",
       "\n",
       "    .dataframe thead th {\n",
       "        text-align: right;\n",
       "    }\n",
       "</style>\n",
       "<table border=\"1\" class=\"dataframe\">\n",
       "  <thead>\n",
       "    <tr style=\"text-align: right;\">\n",
       "      <th></th>\n",
       "      <th>Factor</th>\n",
       "      <th>Description</th>\n",
       "    </tr>\n",
       "  </thead>\n",
       "  <tbody>\n",
       "    <tr>\n",
       "      <th>0</th>\n",
       "      <td>Pulmonary</td>\n",
       "      <td>Smoking, preexisting pulmonary disease</td>\n",
       "    </tr>\n",
       "    <tr>\n",
       "      <th>1</th>\n",
       "      <td>Infection</td>\n",
       "      <td>Coinfections determine whether coexisting resp...</td>\n",
       "    </tr>\n",
       "    <tr>\n",
       "      <th>2</th>\n",
       "      <td>Birth</td>\n",
       "      <td>Neonates and pregnant women</td>\n",
       "    </tr>\n",
       "    <tr>\n",
       "      <th>3</th>\n",
       "      <td>Socio-eco</td>\n",
       "      <td>Socio-economic and behavioral factors to under...</td>\n",
       "    </tr>\n",
       "    <tr>\n",
       "      <th>4</th>\n",
       "      <td>Transmission</td>\n",
       "      <td>Transmission dynamics of the virus, including ...</td>\n",
       "    </tr>\n",
       "    <tr>\n",
       "      <th>5</th>\n",
       "      <td>Severity</td>\n",
       "      <td>Severity of disease, including risk of fatalit...</td>\n",
       "    </tr>\n",
       "    <tr>\n",
       "      <th>6</th>\n",
       "      <td>Susceptibility</td>\n",
       "      <td>Susceptibility of populations</td>\n",
       "    </tr>\n",
       "    <tr>\n",
       "      <th>7</th>\n",
       "      <td>Mitig-measures</td>\n",
       "      <td>Public health mitigation measures that could b...</td>\n",
       "    </tr>\n",
       "  </tbody>\n",
       "</table>\n",
       "</div>"
      ],
      "text/plain": [
       "               Factor                                        Description\n",
       "0           Pulmonary             Smoking, preexisting pulmonary disease\n",
       "1           Infection  Coinfections determine whether coexisting resp...\n",
       "2               Birth                        Neonates and pregnant women\n",
       "3           Socio-eco  Socio-economic and behavioral factors to under...\n",
       "4        Transmission  Transmission dynamics of the virus, including ...\n",
       "5            Severity  Severity of disease, including risk of fatalit...\n",
       "6      Susceptibility                      Susceptibility of populations\n",
       "7      Mitig-measures  Public health mitigation measures that could b..."
      ]
     },
     "execution_count": 93,
     "metadata": {},
     "output_type": "execute_result"
    }
   ],
   "source": [
    "riskfac = StringIO(\"\"\"Factor;Description\n",
    "    Pulmonary;Smoking, preexisting pulmonary disease\n",
    "    Infection;Coinfections determine whether coexisting respiratory or viral infections make the virus more transmissible or virulent and other comorbidities\n",
    "    Birth;Neonates and pregnant women\n",
    "    Socio-eco;Socio-economic and behavioral factors to understand the economic impact of the virus and whether there were differences\n",
    "    Transmission;Transmission dynamics of the virus, including the basic reproductive number, incubation period, serial interval, modes of transmission and environmental factors\n",
    "    Severity;Severity of disease, including risk of fatality among symptomatic hospitalized patients, and high-risk patient groups\n",
    "    Susceptibility;Susceptibility of populations\n",
    "    Mitig-measures;Public health mitigation measures that could be effective for control\n",
    "    \"\"\")\n",
    "\n",
    "rf_base = pd.read_csv(riskfac, sep= \";\")\n",
    "rf_base"
   ]
  },
  {
   "cell_type": "code",
   "execution_count": 94,
   "metadata": {},
   "outputs": [],
   "source": [
    "# exporting factors and description to save it.\n",
    "rf_base.to_csv(r'2020-03-13/rf_base.csv', index = False)"
   ]
  },
  {
   "cell_type": "markdown",
   "metadata": {},
   "source": [
    "### Loading the themes' descriptions"
   ]
  },
  {
   "cell_type": "code",
   "execution_count": 95,
   "metadata": {},
   "outputs": [
    {
     "data": {
      "text/html": [
       "<div>\n",
       "<style scoped>\n",
       "    .dataframe tbody tr th:only-of-type {\n",
       "        vertical-align: middle;\n",
       "    }\n",
       "\n",
       "    .dataframe tbody tr th {\n",
       "        vertical-align: top;\n",
       "    }\n",
       "\n",
       "    .dataframe thead th {\n",
       "        text-align: right;\n",
       "    }\n",
       "</style>\n",
       "<table border=\"1\" class=\"dataframe\">\n",
       "  <thead>\n",
       "    <tr style=\"text-align: right;\">\n",
       "      <th></th>\n",
       "      <th>Description</th>\n",
       "      <th>index</th>\n",
       "    </tr>\n",
       "  </thead>\n",
       "  <tbody>\n",
       "    <tr>\n",
       "      <th>0</th>\n",
       "      <td>Smoking, preexisting pulmonary disease</td>\n",
       "      <td>0</td>\n",
       "    </tr>\n",
       "    <tr>\n",
       "      <th>1</th>\n",
       "      <td>Coinfections determine whether coexisting resp...</td>\n",
       "      <td>1</td>\n",
       "    </tr>\n",
       "    <tr>\n",
       "      <th>2</th>\n",
       "      <td>Neonates and pregnant women</td>\n",
       "      <td>2</td>\n",
       "    </tr>\n",
       "    <tr>\n",
       "      <th>3</th>\n",
       "      <td>Socio-economic and behavioral factors to under...</td>\n",
       "      <td>3</td>\n",
       "    </tr>\n",
       "    <tr>\n",
       "      <th>4</th>\n",
       "      <td>Transmission dynamics of the virus, including ...</td>\n",
       "      <td>4</td>\n",
       "    </tr>\n",
       "    <tr>\n",
       "      <th>5</th>\n",
       "      <td>Severity of disease, including risk of fatalit...</td>\n",
       "      <td>5</td>\n",
       "    </tr>\n",
       "    <tr>\n",
       "      <th>6</th>\n",
       "      <td>Susceptibility of populations</td>\n",
       "      <td>6</td>\n",
       "    </tr>\n",
       "    <tr>\n",
       "      <th>7</th>\n",
       "      <td>Public health mitigation measures that could b...</td>\n",
       "      <td>7</td>\n",
       "    </tr>\n",
       "  </tbody>\n",
       "</table>\n",
       "</div>"
      ],
      "text/plain": [
       "                                         Description  index\n",
       "0             Smoking, preexisting pulmonary disease      0\n",
       "1  Coinfections determine whether coexisting resp...      1\n",
       "2                        Neonates and pregnant women      2\n",
       "3  Socio-economic and behavioral factors to under...      3\n",
       "4  Transmission dynamics of the virus, including ...      4\n",
       "5  Severity of disease, including risk of fatalit...      5\n",
       "6                      Susceptibility of populations      6\n",
       "7  Public health mitigation measures that could b...      7"
      ]
     },
     "execution_count": 95,
     "metadata": {},
     "output_type": "execute_result"
    }
   ],
   "source": [
    "data = pd.read_csv('2020-03-13/rf_base.csv', delimiter=',', header=None, skiprows=1, names=['Factor','Description'])\n",
    "# We only need the Headlines text column from the data\n",
    "descp = data[:8][['Description']];\n",
    "descp['index'] = descp.index\n",
    "descp"
   ]
  },
  {
   "cell_type": "markdown",
   "metadata": {},
   "source": [
    "### Loading the themes' designation"
   ]
  },
  {
   "cell_type": "code",
   "execution_count": 96,
   "metadata": {},
   "outputs": [
    {
     "data": {
      "text/html": [
       "<div>\n",
       "<style scoped>\n",
       "    .dataframe tbody tr th:only-of-type {\n",
       "        vertical-align: middle;\n",
       "    }\n",
       "\n",
       "    .dataframe tbody tr th {\n",
       "        vertical-align: top;\n",
       "    }\n",
       "\n",
       "    .dataframe thead th {\n",
       "        text-align: right;\n",
       "    }\n",
       "</style>\n",
       "<table border=\"1\" class=\"dataframe\">\n",
       "  <thead>\n",
       "    <tr style=\"text-align: right;\">\n",
       "      <th></th>\n",
       "      <th>Factor</th>\n",
       "      <th>index</th>\n",
       "    </tr>\n",
       "  </thead>\n",
       "  <tbody>\n",
       "    <tr>\n",
       "      <th>0</th>\n",
       "      <td>Pulmonary</td>\n",
       "      <td>0</td>\n",
       "    </tr>\n",
       "    <tr>\n",
       "      <th>1</th>\n",
       "      <td>Infection</td>\n",
       "      <td>1</td>\n",
       "    </tr>\n",
       "    <tr>\n",
       "      <th>2</th>\n",
       "      <td>Birth</td>\n",
       "      <td>2</td>\n",
       "    </tr>\n",
       "    <tr>\n",
       "      <th>3</th>\n",
       "      <td>Socio-eco</td>\n",
       "      <td>3</td>\n",
       "    </tr>\n",
       "    <tr>\n",
       "      <th>4</th>\n",
       "      <td>Transmission</td>\n",
       "      <td>4</td>\n",
       "    </tr>\n",
       "    <tr>\n",
       "      <th>5</th>\n",
       "      <td>Severity</td>\n",
       "      <td>5</td>\n",
       "    </tr>\n",
       "    <tr>\n",
       "      <th>6</th>\n",
       "      <td>Susceptibility</td>\n",
       "      <td>6</td>\n",
       "    </tr>\n",
       "    <tr>\n",
       "      <th>7</th>\n",
       "      <td>Mitig-measures</td>\n",
       "      <td>7</td>\n",
       "    </tr>\n",
       "  </tbody>\n",
       "</table>\n",
       "</div>"
      ],
      "text/plain": [
       "               Factor  index\n",
       "0           Pulmonary      0\n",
       "1           Infection      1\n",
       "2               Birth      2\n",
       "3           Socio-eco      3\n",
       "4        Transmission      4\n",
       "5            Severity      5\n",
       "6      Susceptibility      6\n",
       "7      Mitig-measures      7"
      ]
     },
     "execution_count": 96,
     "metadata": {},
     "output_type": "execute_result"
    }
   ],
   "source": [
    "fact_name = data[:8][['Factor']];\n",
    "fact_name['index'] = fact_name.index\n",
    "fact_name"
   ]
  },
  {
   "cell_type": "markdown",
   "metadata": {},
   "source": [
    "## Tokenization of the themes with [ScispaCy package](https://allenai.github.io/scispacy/)"
   ]
  },
  {
   "cell_type": "markdown",
   "metadata": {},
   "source": [
    "### Preview of themes after preprocessing\n",
    "Sci-SpaCy are models for biomedical text processing made by Allen Institute [AI2](https://alleninstitute.org)"
   ]
  },
  {
   "cell_type": "markdown",
   "metadata": {},
   "source": [
    "### Defining Patterns"
   ]
  },
  {
   "cell_type": "code",
   "execution_count": 97,
   "metadata": {},
   "outputs": [
    {
     "data": {
      "text/html": [
       "<span class=\"tex2jax_ignore\"><div class=\"entities\" style=\"line-height: 2.5; direction: ltr\">\n",
       "<mark class=\"entity\" style=\"background: #ddd; padding: 0.45em 0.6em; margin: 0 0.25em; line-height: 1; border-radius: 0.35em;\">\n",
       "    Smoking\n",
       "    <span style=\"font-size: 0.8em; font-weight: bold; line-height: 1; border-radius: 0.35em; text-transform: uppercase; vertical-align: middle; margin-left: 0.5rem\">ENTITY</span>\n",
       "</mark>\n",
       ", preexisting \n",
       "<mark class=\"entity\" style=\"background: #ddd; padding: 0.45em 0.6em; margin: 0 0.25em; line-height: 1; border-radius: 0.35em;\">\n",
       "    pulmonary disease\n",
       "    <span style=\"font-size: 0.8em; font-weight: bold; line-height: 1; border-radius: 0.35em; text-transform: uppercase; vertical-align: middle; margin-left: 0.5rem\">ENTITY</span>\n",
       "</mark>\n",
       "</div></span>"
      ],
      "text/plain": [
       "<IPython.core.display.HTML object>"
      ]
     },
     "metadata": {},
     "output_type": "display_data"
    },
    {
     "data": {
      "text/html": [
       "<span class=\"tex2jax_ignore\"><div class=\"entities\" style=\"line-height: 2.5; direction: ltr\">\n",
       "<mark class=\"entity\" style=\"background: #ddd; padding: 0.45em 0.6em; margin: 0 0.25em; line-height: 1; border-radius: 0.35em;\">\n",
       "    Coinfections\n",
       "    <span style=\"font-size: 0.8em; font-weight: bold; line-height: 1; border-radius: 0.35em; text-transform: uppercase; vertical-align: middle; margin-left: 0.5rem\">ENTITY</span>\n",
       "</mark>\n",
       " determine whether \n",
       "<mark class=\"entity\" style=\"background: #ddd; padding: 0.45em 0.6em; margin: 0 0.25em; line-height: 1; border-radius: 0.35em;\">\n",
       "    coexisting\n",
       "    <span style=\"font-size: 0.8em; font-weight: bold; line-height: 1; border-radius: 0.35em; text-transform: uppercase; vertical-align: middle; margin-left: 0.5rem\">ENTITY</span>\n",
       "</mark>\n",
       " \n",
       "<mark class=\"entity\" style=\"background: #ddd; padding: 0.45em 0.6em; margin: 0 0.25em; line-height: 1; border-radius: 0.35em;\">\n",
       "    respiratory\n",
       "    <span style=\"font-size: 0.8em; font-weight: bold; line-height: 1; border-radius: 0.35em; text-transform: uppercase; vertical-align: middle; margin-left: 0.5rem\">ENTITY</span>\n",
       "</mark>\n",
       " or \n",
       "<mark class=\"entity\" style=\"background: #ddd; padding: 0.45em 0.6em; margin: 0 0.25em; line-height: 1; border-radius: 0.35em;\">\n",
       "    viral infections\n",
       "    <span style=\"font-size: 0.8em; font-weight: bold; line-height: 1; border-radius: 0.35em; text-transform: uppercase; vertical-align: middle; margin-left: 0.5rem\">ENTITY</span>\n",
       "</mark>\n",
       " make the \n",
       "<mark class=\"entity\" style=\"background: #ddd; padding: 0.45em 0.6em; margin: 0 0.25em; line-height: 1; border-radius: 0.35em;\">\n",
       "    virus\n",
       "    <span style=\"font-size: 0.8em; font-weight: bold; line-height: 1; border-radius: 0.35em; text-transform: uppercase; vertical-align: middle; margin-left: 0.5rem\">ENTITY</span>\n",
       "</mark>\n",
       " more \n",
       "<mark class=\"entity\" style=\"background: #ddd; padding: 0.45em 0.6em; margin: 0 0.25em; line-height: 1; border-radius: 0.35em;\">\n",
       "    transmissible\n",
       "    <span style=\"font-size: 0.8em; font-weight: bold; line-height: 1; border-radius: 0.35em; text-transform: uppercase; vertical-align: middle; margin-left: 0.5rem\">ENTITY</span>\n",
       "</mark>\n",
       " or \n",
       "<mark class=\"entity\" style=\"background: #ddd; padding: 0.45em 0.6em; margin: 0 0.25em; line-height: 1; border-radius: 0.35em;\">\n",
       "    virulent\n",
       "    <span style=\"font-size: 0.8em; font-weight: bold; line-height: 1; border-radius: 0.35em; text-transform: uppercase; vertical-align: middle; margin-left: 0.5rem\">ENTITY</span>\n",
       "</mark>\n",
       " and other \n",
       "<mark class=\"entity\" style=\"background: #ddd; padding: 0.45em 0.6em; margin: 0 0.25em; line-height: 1; border-radius: 0.35em;\">\n",
       "    comorbidities\n",
       "    <span style=\"font-size: 0.8em; font-weight: bold; line-height: 1; border-radius: 0.35em; text-transform: uppercase; vertical-align: middle; margin-left: 0.5rem\">ENTITY</span>\n",
       "</mark>\n",
       "</div></span>"
      ],
      "text/plain": [
       "<IPython.core.display.HTML object>"
      ]
     },
     "metadata": {},
     "output_type": "display_data"
    },
    {
     "data": {
      "text/html": [
       "<span class=\"tex2jax_ignore\"><div class=\"entities\" style=\"line-height: 2.5; direction: ltr\">\n",
       "<mark class=\"entity\" style=\"background: #ddd; padding: 0.45em 0.6em; margin: 0 0.25em; line-height: 1; border-radius: 0.35em;\">\n",
       "    Neonates\n",
       "    <span style=\"font-size: 0.8em; font-weight: bold; line-height: 1; border-radius: 0.35em; text-transform: uppercase; vertical-align: middle; margin-left: 0.5rem\">ENTITY</span>\n",
       "</mark>\n",
       " and \n",
       "<mark class=\"entity\" style=\"background: #ddd; padding: 0.45em 0.6em; margin: 0 0.25em; line-height: 1; border-radius: 0.35em;\">\n",
       "    pregnant women\n",
       "    <span style=\"font-size: 0.8em; font-weight: bold; line-height: 1; border-radius: 0.35em; text-transform: uppercase; vertical-align: middle; margin-left: 0.5rem\">ENTITY</span>\n",
       "</mark>\n",
       "</div></span>"
      ],
      "text/plain": [
       "<IPython.core.display.HTML object>"
      ]
     },
     "metadata": {},
     "output_type": "display_data"
    },
    {
     "data": {
      "text/html": [
       "<span class=\"tex2jax_ignore\"><div class=\"entities\" style=\"line-height: 2.5; direction: ltr\">\n",
       "<mark class=\"entity\" style=\"background: #ddd; padding: 0.45em 0.6em; margin: 0 0.25em; line-height: 1; border-radius: 0.35em;\">\n",
       "    Socio-economic\n",
       "    <span style=\"font-size: 0.8em; font-weight: bold; line-height: 1; border-radius: 0.35em; text-transform: uppercase; vertical-align: middle; margin-left: 0.5rem\">ENTITY</span>\n",
       "</mark>\n",
       " and \n",
       "<mark class=\"entity\" style=\"background: #ddd; padding: 0.45em 0.6em; margin: 0 0.25em; line-height: 1; border-radius: 0.35em;\">\n",
       "    behavioral factors\n",
       "    <span style=\"font-size: 0.8em; font-weight: bold; line-height: 1; border-radius: 0.35em; text-transform: uppercase; vertical-align: middle; margin-left: 0.5rem\">ENTITY</span>\n",
       "</mark>\n",
       " to understand the \n",
       "<mark class=\"entity\" style=\"background: #ddd; padding: 0.45em 0.6em; margin: 0 0.25em; line-height: 1; border-radius: 0.35em;\">\n",
       "    economic impact\n",
       "    <span style=\"font-size: 0.8em; font-weight: bold; line-height: 1; border-radius: 0.35em; text-transform: uppercase; vertical-align: middle; margin-left: 0.5rem\">ENTITY</span>\n",
       "</mark>\n",
       " of the \n",
       "<mark class=\"entity\" style=\"background: #ddd; padding: 0.45em 0.6em; margin: 0 0.25em; line-height: 1; border-radius: 0.35em;\">\n",
       "    virus\n",
       "    <span style=\"font-size: 0.8em; font-weight: bold; line-height: 1; border-radius: 0.35em; text-transform: uppercase; vertical-align: middle; margin-left: 0.5rem\">ENTITY</span>\n",
       "</mark>\n",
       " and whether there were differences</div></span>"
      ],
      "text/plain": [
       "<IPython.core.display.HTML object>"
      ]
     },
     "metadata": {},
     "output_type": "display_data"
    },
    {
     "data": {
      "text/html": [
       "<span class=\"tex2jax_ignore\"><div class=\"entities\" style=\"line-height: 2.5; direction: ltr\">\n",
       "<mark class=\"entity\" style=\"background: #ddd; padding: 0.45em 0.6em; margin: 0 0.25em; line-height: 1; border-radius: 0.35em;\">\n",
       "    Transmission\n",
       "    <span style=\"font-size: 0.8em; font-weight: bold; line-height: 1; border-radius: 0.35em; text-transform: uppercase; vertical-align: middle; margin-left: 0.5rem\">ENTITY</span>\n",
       "</mark>\n",
       " \n",
       "<mark class=\"entity\" style=\"background: #ddd; padding: 0.45em 0.6em; margin: 0 0.25em; line-height: 1; border-radius: 0.35em;\">\n",
       "    dynamics\n",
       "    <span style=\"font-size: 0.8em; font-weight: bold; line-height: 1; border-radius: 0.35em; text-transform: uppercase; vertical-align: middle; margin-left: 0.5rem\">ENTITY</span>\n",
       "</mark>\n",
       " of the \n",
       "<mark class=\"entity\" style=\"background: #ddd; padding: 0.45em 0.6em; margin: 0 0.25em; line-height: 1; border-radius: 0.35em;\">\n",
       "    virus\n",
       "    <span style=\"font-size: 0.8em; font-weight: bold; line-height: 1; border-radius: 0.35em; text-transform: uppercase; vertical-align: middle; margin-left: 0.5rem\">ENTITY</span>\n",
       "</mark>\n",
       ", including the \n",
       "<mark class=\"entity\" style=\"background: #ddd; padding: 0.45em 0.6em; margin: 0 0.25em; line-height: 1; border-radius: 0.35em;\">\n",
       "    basic reproductive number\n",
       "    <span style=\"font-size: 0.8em; font-weight: bold; line-height: 1; border-radius: 0.35em; text-transform: uppercase; vertical-align: middle; margin-left: 0.5rem\">ENTITY</span>\n",
       "</mark>\n",
       ", \n",
       "<mark class=\"entity\" style=\"background: #ddd; padding: 0.45em 0.6em; margin: 0 0.25em; line-height: 1; border-radius: 0.35em;\">\n",
       "    incubation\n",
       "    <span style=\"font-size: 0.8em; font-weight: bold; line-height: 1; border-radius: 0.35em; text-transform: uppercase; vertical-align: middle; margin-left: 0.5rem\">ENTITY</span>\n",
       "</mark>\n",
       " period, \n",
       "<mark class=\"entity\" style=\"background: #ddd; padding: 0.45em 0.6em; margin: 0 0.25em; line-height: 1; border-radius: 0.35em;\">\n",
       "    serial interval\n",
       "    <span style=\"font-size: 0.8em; font-weight: bold; line-height: 1; border-radius: 0.35em; text-transform: uppercase; vertical-align: middle; margin-left: 0.5rem\">ENTITY</span>\n",
       "</mark>\n",
       ", \n",
       "<mark class=\"entity\" style=\"background: #ddd; padding: 0.45em 0.6em; margin: 0 0.25em; line-height: 1; border-radius: 0.35em;\">\n",
       "    modes\n",
       "    <span style=\"font-size: 0.8em; font-weight: bold; line-height: 1; border-radius: 0.35em; text-transform: uppercase; vertical-align: middle; margin-left: 0.5rem\">ENTITY</span>\n",
       "</mark>\n",
       " of \n",
       "<mark class=\"entity\" style=\"background: #ddd; padding: 0.45em 0.6em; margin: 0 0.25em; line-height: 1; border-radius: 0.35em;\">\n",
       "    transmission\n",
       "    <span style=\"font-size: 0.8em; font-weight: bold; line-height: 1; border-radius: 0.35em; text-transform: uppercase; vertical-align: middle; margin-left: 0.5rem\">ENTITY</span>\n",
       "</mark>\n",
       " and \n",
       "<mark class=\"entity\" style=\"background: #ddd; padding: 0.45em 0.6em; margin: 0 0.25em; line-height: 1; border-radius: 0.35em;\">\n",
       "    environmental factors\n",
       "    <span style=\"font-size: 0.8em; font-weight: bold; line-height: 1; border-radius: 0.35em; text-transform: uppercase; vertical-align: middle; margin-left: 0.5rem\">ENTITY</span>\n",
       "</mark>\n",
       "</div></span>"
      ],
      "text/plain": [
       "<IPython.core.display.HTML object>"
      ]
     },
     "metadata": {},
     "output_type": "display_data"
    },
    {
     "data": {
      "text/html": [
       "<span class=\"tex2jax_ignore\"><div class=\"entities\" style=\"line-height: 2.5; direction: ltr\">\n",
       "<mark class=\"entity\" style=\"background: #ddd; padding: 0.45em 0.6em; margin: 0 0.25em; line-height: 1; border-radius: 0.35em;\">\n",
       "    Severity of disease\n",
       "    <span style=\"font-size: 0.8em; font-weight: bold; line-height: 1; border-radius: 0.35em; text-transform: uppercase; vertical-align: middle; margin-left: 0.5rem\">ENTITY</span>\n",
       "</mark>\n",
       ", including \n",
       "<mark class=\"entity\" style=\"background: #ddd; padding: 0.45em 0.6em; margin: 0 0.25em; line-height: 1; border-radius: 0.35em;\">\n",
       "    risk\n",
       "    <span style=\"font-size: 0.8em; font-weight: bold; line-height: 1; border-radius: 0.35em; text-transform: uppercase; vertical-align: middle; margin-left: 0.5rem\">ENTITY</span>\n",
       "</mark>\n",
       " of \n",
       "<mark class=\"entity\" style=\"background: #ddd; padding: 0.45em 0.6em; margin: 0 0.25em; line-height: 1; border-radius: 0.35em;\">\n",
       "    fatality\n",
       "    <span style=\"font-size: 0.8em; font-weight: bold; line-height: 1; border-radius: 0.35em; text-transform: uppercase; vertical-align: middle; margin-left: 0.5rem\">ENTITY</span>\n",
       "</mark>\n",
       " among \n",
       "<mark class=\"entity\" style=\"background: #ddd; padding: 0.45em 0.6em; margin: 0 0.25em; line-height: 1; border-radius: 0.35em;\">\n",
       "    symptomatic\n",
       "    <span style=\"font-size: 0.8em; font-weight: bold; line-height: 1; border-radius: 0.35em; text-transform: uppercase; vertical-align: middle; margin-left: 0.5rem\">ENTITY</span>\n",
       "</mark>\n",
       " \n",
       "<mark class=\"entity\" style=\"background: #ddd; padding: 0.45em 0.6em; margin: 0 0.25em; line-height: 1; border-radius: 0.35em;\">\n",
       "    hospitalized\n",
       "    <span style=\"font-size: 0.8em; font-weight: bold; line-height: 1; border-radius: 0.35em; text-transform: uppercase; vertical-align: middle; margin-left: 0.5rem\">ENTITY</span>\n",
       "</mark>\n",
       " \n",
       "<mark class=\"entity\" style=\"background: #ddd; padding: 0.45em 0.6em; margin: 0 0.25em; line-height: 1; border-radius: 0.35em;\">\n",
       "    patients\n",
       "    <span style=\"font-size: 0.8em; font-weight: bold; line-height: 1; border-radius: 0.35em; text-transform: uppercase; vertical-align: middle; margin-left: 0.5rem\">ENTITY</span>\n",
       "</mark>\n",
       ", and \n",
       "<mark class=\"entity\" style=\"background: #ddd; padding: 0.45em 0.6em; margin: 0 0.25em; line-height: 1; border-radius: 0.35em;\">\n",
       "    high-risk\n",
       "    <span style=\"font-size: 0.8em; font-weight: bold; line-height: 1; border-radius: 0.35em; text-transform: uppercase; vertical-align: middle; margin-left: 0.5rem\">ENTITY</span>\n",
       "</mark>\n",
       " \n",
       "<mark class=\"entity\" style=\"background: #ddd; padding: 0.45em 0.6em; margin: 0 0.25em; line-height: 1; border-radius: 0.35em;\">\n",
       "    patient\n",
       "    <span style=\"font-size: 0.8em; font-weight: bold; line-height: 1; border-radius: 0.35em; text-transform: uppercase; vertical-align: middle; margin-left: 0.5rem\">ENTITY</span>\n",
       "</mark>\n",
       " groups</div></span>"
      ],
      "text/plain": [
       "<IPython.core.display.HTML object>"
      ]
     },
     "metadata": {},
     "output_type": "display_data"
    },
    {
     "data": {
      "text/html": [
       "<span class=\"tex2jax_ignore\"><div class=\"entities\" style=\"line-height: 2.5; direction: ltr\">\n",
       "<mark class=\"entity\" style=\"background: #ddd; padding: 0.45em 0.6em; margin: 0 0.25em; line-height: 1; border-radius: 0.35em;\">\n",
       "    Susceptibility\n",
       "    <span style=\"font-size: 0.8em; font-weight: bold; line-height: 1; border-radius: 0.35em; text-transform: uppercase; vertical-align: middle; margin-left: 0.5rem\">ENTITY</span>\n",
       "</mark>\n",
       " of \n",
       "<mark class=\"entity\" style=\"background: #ddd; padding: 0.45em 0.6em; margin: 0 0.25em; line-height: 1; border-radius: 0.35em;\">\n",
       "    populations\n",
       "    <span style=\"font-size: 0.8em; font-weight: bold; line-height: 1; border-radius: 0.35em; text-transform: uppercase; vertical-align: middle; margin-left: 0.5rem\">ENTITY</span>\n",
       "</mark>\n",
       "</div></span>"
      ],
      "text/plain": [
       "<IPython.core.display.HTML object>"
      ]
     },
     "metadata": {},
     "output_type": "display_data"
    },
    {
     "data": {
      "text/html": [
       "<span class=\"tex2jax_ignore\"><div class=\"entities\" style=\"line-height: 2.5; direction: ltr\">\n",
       "<mark class=\"entity\" style=\"background: #ddd; padding: 0.45em 0.6em; margin: 0 0.25em; line-height: 1; border-radius: 0.35em;\">\n",
       "    Public health mitigation\n",
       "    <span style=\"font-size: 0.8em; font-weight: bold; line-height: 1; border-radius: 0.35em; text-transform: uppercase; vertical-align: middle; margin-left: 0.5rem\">ENTITY</span>\n",
       "</mark>\n",
       " \n",
       "<mark class=\"entity\" style=\"background: #ddd; padding: 0.45em 0.6em; margin: 0 0.25em; line-height: 1; border-radius: 0.35em;\">\n",
       "    measures\n",
       "    <span style=\"font-size: 0.8em; font-weight: bold; line-height: 1; border-radius: 0.35em; text-transform: uppercase; vertical-align: middle; margin-left: 0.5rem\">ENTITY</span>\n",
       "</mark>\n",
       " that could be \n",
       "<mark class=\"entity\" style=\"background: #ddd; padding: 0.45em 0.6em; margin: 0 0.25em; line-height: 1; border-radius: 0.35em;\">\n",
       "    effective\n",
       "    <span style=\"font-size: 0.8em; font-weight: bold; line-height: 1; border-radius: 0.35em; text-transform: uppercase; vertical-align: middle; margin-left: 0.5rem\">ENTITY</span>\n",
       "</mark>\n",
       " for \n",
       "<mark class=\"entity\" style=\"background: #ddd; padding: 0.45em 0.6em; margin: 0 0.25em; line-height: 1; border-radius: 0.35em;\">\n",
       "    control\n",
       "    <span style=\"font-size: 0.8em; font-weight: bold; line-height: 1; border-radius: 0.35em; text-transform: uppercase; vertical-align: middle; margin-left: 0.5rem\">ENTITY</span>\n",
       "</mark>\n",
       "</div></span>"
      ],
      "text/plain": [
       "<IPython.core.display.HTML object>"
      ]
     },
     "metadata": {},
     "output_type": "display_data"
    }
   ],
   "source": [
    "import scispacy\n",
    "import spacy\n",
    "from spacy import displacy\n",
    "\n",
    "\n",
    "nlp = spacy.load(\"en_core_sci_md\") # \"en_core_sci_md\" larger biodmedical vocab. word vector\n",
    "\n",
    "def patternizing(dataF):\n",
    "    for i in range(8):\n",
    "        theme_sample = dataF[dataF['index'] == i].values[0][0]\n",
    "        \n",
    "        text = theme_sample\n",
    "        # print(theme_sample)\n",
    "\n",
    "        doc = nlp(text)\n",
    "       \n",
    "        # print(list(doc.sents))\n",
    "        # print(doc.ents)\n",
    "        \n",
    "        displacy.render(next(doc.sents), style='ent', jupyter=True)\n",
    "patternizing(descp)"
   ]
  },
  {
   "cell_type": "markdown",
   "metadata": {},
   "source": [
    "**Due to Sci-SpaCy model, for e.g.:'pulmonary disease' is considered as a token.** This is not the case with \"basic\" SpaCy."
   ]
  },
  {
   "cell_type": "markdown",
   "metadata": {},
   "source": [
    "### Patterns into lists and then related to their name Theme."
   ]
  },
  {
   "cell_type": "code",
   "execution_count": 98,
   "metadata": {},
   "outputs": [],
   "source": [
    "nlp = spacy.load(\"en_core_sci_md\")\n",
    "\n",
    "def pRnize(dataF, indice):\n",
    "    \n",
    "    mastlist = []\n",
    "    \"\"\"\n",
    "    n_cov2 = ['covid19', 'covid-19',\n",
    "              'Covid19', 'Covid-19',\n",
    "              'COVID19', 'COVID-19',\n",
    "              'Sars-Cov-2', 'Sars-CoV-2', 'Sars-COV-2', 'Sars-cov-2',\n",
    "              'SARS-Cov-2', 'SARS-CoV-2', 'SARS-COV-2', 'SARS-cov-2',\n",
    "              'sars-Cov-2', 'sars-CoV-2', 'sars-COV-2', 'sars-cov-2',\n",
    "              'Sars Cov-2', 'Sars CoV-2', 'Sars COV-2', 'Sars cov-2',\n",
    "              'SARS Cov-2', 'SARS CoV-2', 'SARS COV-2', 'SARS cov-2',\n",
    "              'sars Cov-2', 'sars CoV-2', 'sars COV-2', 'sars cov-2',\n",
    "              'Sars-Cov 2', 'Sars-CoV 2', 'Sars-COV 2', 'Sars-cov 2',\n",
    "              'SARS-Cov 2', 'SARS-CoV 2', 'SARS-COV 2', 'SARS-cov 2',\n",
    "              'sars-Cov 2', 'sars-CoV 2', 'sars-COV 2', 'sars-cov 2',\n",
    "              'Sars Cov 2', 'Sars CoV 2', 'Sars COV 2', 'Sars cov 2',\n",
    "              'SARS Cov 2', 'SARS CoV 2', 'SARS COV 2', 'SARS cov 2',\n",
    "              'sars Cov 2', 'sars CoV 2', 'sars COV 2', 'sars cov 2',\n",
    "              'Sars Cov2', 'Sars CoV2', 'Sars COV2', 'Sars cov2',\n",
    "              'SARS Cov2', 'SARS CoV2', 'SARS COV2', 'SARS cov2',\n",
    "              'sars Cov2', 'sars CoV2', 'sars COV2', 'sars cov2',]\n",
    "    \"\"\"\n",
    "    for i in range(8):\n",
    "        factor = []\n",
    "        theme_sample = dataF[dataF['index'] == i].values[0][0]\n",
    "\n",
    "        text = theme_sample\n",
    "\n",
    "        doc = nlp(text) \n",
    "        \n",
    "        for item in doc.ents:\n",
    "            vocab = str(item).lower().strip('()')\n",
    "            factor.append(vocab)\n",
    "        \n",
    "        #for name in n_cov2:\n",
    "         #   factor.append(name)\n",
    "        mastlist.append(factor)\n",
    "    return mastlist[indice]\n",
    "\n",
    "# To test unquote\n",
    "#pRnize(descp, 0)"
   ]
  },
  {
   "cell_type": "markdown",
   "metadata": {},
   "source": [
    "**Here none of the COVID-19 designation are not been include in the patterns.<br>\n",
    "If needed, just quote the list and the loop related to n_cov2.**"
   ]
  },
  {
   "cell_type": "markdown",
   "metadata": {},
   "source": [
    "### Dictionnary {Theme: patterns} "
   ]
  },
  {
   "cell_type": "code",
   "execution_count": 99,
   "metadata": {},
   "outputs": [],
   "source": [
    "def key_per_theme(dataF, word):\n",
    "    dic = {}\n",
    "    for i in range(8):\n",
    "        factor = dataF[dataF['index'] == i].values[0][0]\n",
    "        wordy = pRnize(word, i)\n",
    "    \n",
    "        dic[factor.strip()] = wordy\n",
    "    return dic"
   ]
  },
  {
   "cell_type": "markdown",
   "metadata": {},
   "source": [
    "#### Preview of Themes"
   ]
  },
  {
   "cell_type": "code",
   "execution_count": 100,
   "metadata": {},
   "outputs": [
    {
     "data": {
      "text/plain": [
       "{'Pulmonary': ['smoking', 'pulmonary disease'],\n",
       " 'Infection': ['coinfections',\n",
       "  'coexisting',\n",
       "  'respiratory',\n",
       "  'viral infections',\n",
       "  'virus',\n",
       "  'transmissible',\n",
       "  'virulent',\n",
       "  'comorbidities'],\n",
       " 'Birth': ['neonates', 'pregnant women'],\n",
       " 'Socio-eco': ['socio-economic',\n",
       "  'behavioral factors',\n",
       "  'economic impact',\n",
       "  'virus'],\n",
       " 'Transmission': ['transmission',\n",
       "  'dynamics',\n",
       "  'virus',\n",
       "  'basic reproductive number',\n",
       "  'incubation',\n",
       "  'serial interval',\n",
       "  'modes',\n",
       "  'transmission',\n",
       "  'environmental factors'],\n",
       " 'Severity': ['severity of disease',\n",
       "  'risk',\n",
       "  'fatality',\n",
       "  'symptomatic',\n",
       "  'hospitalized',\n",
       "  'patients',\n",
       "  'high-risk',\n",
       "  'patient'],\n",
       " 'Susceptibility': ['susceptibility', 'populations'],\n",
       " 'Mitig-measures': ['public health mitigation',\n",
       "  'measures',\n",
       "  'effective',\n",
       "  'control']}"
      ]
     },
     "execution_count": 100,
     "metadata": {},
     "output_type": "execute_result"
    }
   ],
   "source": [
    "key_per_theme(fact_name, descp)\n",
    "#for bo in key_per_theme(fact_name, descp):\n",
    "#    print(bo)\n",
    "#    print(key_per_theme(fact_name, descp)[bo])"
   ]
  },
  {
   "cell_type": "markdown",
   "metadata": {},
   "source": [
    "### Patterns are ready!"
   ]
  },
  {
   "cell_type": "markdown",
   "metadata": {},
   "source": [
    "---"
   ]
  },
  {
   "cell_type": "markdown",
   "metadata": {},
   "source": [
    "# Retrieve the text from articles (xiv)\n",
    "recall that the xiv are dispatched among different sources: Biomed, Commercial, ..."
   ]
  },
  {
   "cell_type": "code",
   "execution_count": 101,
   "metadata": {},
   "outputs": [],
   "source": [
    "import os\n",
    "import json\n",
    "import glob"
   ]
  },
  {
   "cell_type": "code",
   "execution_count": 102,
   "metadata": {},
   "outputs": [],
   "source": [
    "# json file access function\n",
    "def data_access(path):\n",
    "    d_acc = {}\n",
    "    for i in glob.glob(path):\n",
    "        # link = os.path.normpath(i)\n",
    "        # print(link)\n",
    "        \n",
    "        # loading json file function\n",
    "        with open(os.path.normpath(i)) as json_file:\n",
    "            data = json.load(json_file)\n",
    "            paper_id = data['paper_id']\n",
    "            \n",
    "            # text = [item['text'] for item in data['body_text']]\n",
    "            for item in data['body_text']:\n",
    "                text = (item['text'])\n",
    "                \n",
    "                d_acc[paper_id] = text\n",
    "                \n",
    "    return d_acc"
   ]
  },
  {
   "cell_type": "code",
   "execution_count": 103,
   "metadata": {},
   "outputs": [],
   "source": [
    "# json files'path from each folder\n",
    "\n",
    "# path if needed to check just one article.\n",
    "biomed_path = \"2020-03-13/biorxiv_medrxiv/biorxiv_medrxiv/\"  # bio and med archive\n",
    "commu_path = \"2020-03-13/comm_use_subset/comm_use_subset/\"\n",
    "noncom_path = \"2020-03-13/noncomm_use_subset/noncomm_use_subset/\"\n",
    "pmc_path = \"2020-03-13/pmc_custom_license/pmc_custom_license/\"\n",
    "\n",
    "# path if needed to check over all the folder.\n",
    "biomed_fo = \"2020-03-13/biorxiv_medrxiv/biorxiv_medrxiv/*.json\"  # bio and med archive\n",
    "commu_fo = \"2020-03-13/comm_use_subset/comm_use_subset/*.json\"\n",
    "noncom_fo = \"2020-03-13/noncomm_use_subset/noncomm_use_subset/*.json\"\n",
    "pmc_fo = \"2020-03-13/pmc_custom_license/pmc_custom_license/*.json\"\n"
   ]
  },
  {
   "cell_type": "code",
   "execution_count": 111,
   "metadata": {},
   "outputs": [],
   "source": [
    "#xiv = data_access(biomed_fo)\n",
    "#for i in xiv:\n",
    "#    print(i)\n",
    "    # match_it('Pulmonary', xiv[i])"
   ]
  },
  {
   "cell_type": "markdown",
   "metadata": {},
   "source": [
    "### Data extraction from Metadata doc\n",
    "\n",
    "This additional infos on article that are included into the Metadata doc.<br>\n",
    "sha / source_x / title / doi / pmcid / pubmed_id / authors / journal / Microsot A.P ID / Who # covidence"
   ]
  },
  {
   "cell_type": "code",
   "execution_count": 105,
   "metadata": {},
   "outputs": [],
   "source": [
    "metadata = pd.read_csv(\"2020-03-13/all_sources_metadata_2020-03-13.csv\")\n",
    "# metadata.head(5)"
   ]
  },
  {
   "cell_type": "code",
   "execution_count": 106,
   "metadata": {},
   "outputs": [],
   "source": [
    "def met_xiv(metadata, sha):\n",
    "    \n",
    "    sha = str(sha)\n",
    "        \n",
    "    for i, tracksha in enumerate(metadata['sha']):\n",
    "        if tracksha == sha:\n",
    "            print(\"Title\\n{} \\n\\nAuthors\\n{} \\n\\nSource: {} \\n\\nPaper ID: {}\\n\\ndoi: {} \\n\\npmcid: {} - pubmed_id: {} \\n\\nJournal: {}\\n\\n-linked to-\\n\\nMicrosoft Academic Paper ID: {} \\n\\nWHO #Covidence: {}\".format(\n",
    "                                                                                                                                                                                                 metadata['title'][i],\n",
    "                                                                                                                                                                                                 metadata['authors'][i],\n",
    "                                                                                                                                                                                                 metadata['source_x'][i],\n",
    "                                                                                                                                                                                                 metadata['sha'][i],\n",
    "                                                                                                                                                                                                 metadata['doi'][i],\n",
    "                                                                                                                                                                                                 metadata['pmcid'][i],\n",
    "                                                                                                                                                                                                 metadata['pubmed_id'][i],\n",
    "                                                                                                                                                                                                 \n",
    "                                                                                                                                                                                                 metadata['journal'][i],\n",
    "                                                                                                                                                                                                 \n",
    "                                                                                                                                                                                                 metadata['Microsoft Academic Paper ID'][i],\n",
    "                                                                                                                                                                                                 metadata['WHO #Covidence'][i]))\n",
    "# met_xiv(metadata, '0015023cc06b5362d332b3baf348d11567ca2fbb')"
   ]
  },
  {
   "cell_type": "markdown",
   "metadata": {},
   "source": [
    "---"
   ]
  },
  {
   "cell_type": "markdown",
   "metadata": {},
   "source": [
    "# Matching Part"
   ]
  },
  {
   "cell_type": "markdown",
   "metadata": {},
   "source": [
    "### Match the theme within a folder of xiv's.\n",
    "display Theme / Keywords / Paper_id / Quote"
   ]
  },
  {
   "cell_type": "code",
   "execution_count": 107,
   "metadata": {},
   "outputs": [],
   "source": [
    "from IPython.core.display import display, HTML\n",
    "# from termcolor import colored, cprint \n",
    "\n",
    "from spacy.matcher import Matcher\n",
    "from spacy.matcher import PhraseMatcher"
   ]
  },
  {
   "cell_type": "code",
   "execution_count": 108,
   "metadata": {},
   "outputs": [],
   "source": [
    "nlp = spacy.load(\"en_core_sci_md\")\n",
    "\n",
    "def match_it(theme, xiv):\n",
    "    \n",
    "    phMatch = PhraseMatcher(nlp.vocab)\n",
    "    \n",
    "    article = data_access(xiv)\n",
    "    \n",
    "    \n",
    "    p = key_per_theme(fact_name, descp)[theme]\n",
    "    if len(p)==0:\n",
    "        print('no patterns')\n",
    "        \n",
    "    patterns = [nlp(i) for i in p]\n",
    "\n",
    "    phMatch.add(theme, None, *patterns)\n",
    "\n",
    "    for num_id in article:\n",
    "        paper_id = num_id\n",
    "        \n",
    "        doc = nlp(article[num_id])\n",
    "        \n",
    "        mat = phMatch(doc)\n",
    "        # print(mat)\n",
    "        \n",
    "        for match_id, start, end in mat:\n",
    "            string_id = nlp.vocab.strings[match_id]\n",
    "            if len(string_id) == 0:\n",
    "                print(\"No Result\")\n",
    "            else:\n",
    "                span = doc[start:end]\n",
    "                spant = doc[(start) : (end+20)]\n",
    "\n",
    "                print(\"\\nTHEME: \\033[34m{}\\033[00m - KEYWORDS: \\033[32m{}\\033[00m\\n\\nQUOTE: \\033[0;37;40m{}\\033[00m\\n\\nPAPER_ID:{}\".format(string_id,\n",
    "                                                                                                                     span.text, spant.text, paper_id))\n",
    "\n",
    "            \n",
    "                print()\n"
   ]
  },
  {
   "cell_type": "markdown",
   "metadata": {},
   "source": [
    "### These are the exact spelling of the themes that has to be used. Each of them contains the keywords we had within the initial briefing.\n",
    "\n",
    "- Pulmonary\n",
    "- Infection\n",
    "- Birth\n",
    "- Socio-eco\n",
    "- Transmission\n",
    "- Severity\n",
    "- Susceptibility\n",
    "- mitig-measures\n",
    "\n",
    "### These are the exact spelling of the Xiv folders path which contains the 29500 articles.\n",
    "\n",
    "- biomed_fo: bioRxiv/medRxiv subset (pre-prints that are not peer reviewed)\n",
    "- commu_fo: Commercial use subset (includes PMC content)\n",
    "- noncom_fo: Non-commercial use subset (includes PMC content)\n",
    "- pmc_fo: Custom license subset\n"
   ]
  },
  {
   "cell_type": "markdown",
   "metadata": {},
   "source": [
    "### Make the query of the desired theme over folder of xiv."
   ]
  },
  {
   "cell_type": "code",
   "execution_count": 109,
   "metadata": {
    "scrolled": false
   },
   "outputs": [
    {
     "name": "stdout",
     "output_type": "stream",
     "text": [
      "\n",
      "THEME: \u001b[34mSusceptibility\u001b[00m - KEYWORDS: \u001b[32msusceptibility\u001b[00m\n",
      "\n",
      "QUOTE: \u001b[0;37;40msusceptibility or infectiousness. That means that we are not able to investigate the impact of school closures or the impact\u001b[00m\n",
      "\n",
      "PAPER_ID:05d99c07db59b6948e39bfa62c2cbbf62944059a\n",
      "\n",
      "\n",
      "THEME: \u001b[34mSusceptibility\u001b[00m - KEYWORDS: \u001b[32mpopulations\u001b[00m\n",
      "\n",
      "QUOTE: \u001b[0;37;40mpopulations were closed after Jan. 23rd, 2020, using these values for 2019 correctly describes the return of the population\u001b[00m\n",
      "\n",
      "PAPER_ID:0b282573f5c63c943021c10ca39a1ed21acfb429\n",
      "\n",
      "\n",
      "THEME: \u001b[34mSusceptibility\u001b[00m - KEYWORDS: \u001b[32msusceptibility\u001b[00m\n",
      "\n",
      "QUOTE: \u001b[0;37;40msusceptibility, we are effectively generating a matrix R i,j which determines the distribution of secondary confirmed cases in\u001b[00m\n",
      "\n",
      "PAPER_ID:2536b83acf84368d7c13be81fe07aa0575115da7\n",
      "\n",
      "\n",
      "THEME: \u001b[34mSusceptibility\u001b[00m - KEYWORDS: \u001b[32mpopulations\u001b[00m\n",
      "\n",
      "QUOTE: \u001b[0;37;40mpopulations were determined by TCID50 and those of ribavirin-treated populations were normalized to mock-treated controls (mean of 5 measurements per\u001b[00m\n",
      "\n",
      "PAPER_ID:295036c0448244642eb6533de571def6cd8437e5\n",
      "\n",
      "\n",
      "THEME: \u001b[34mSusceptibility\u001b[00m - KEYWORDS: \u001b[32mpopulations\u001b[00m\n",
      "\n",
      "QUOTE: \u001b[0;37;40mpopulations were normalized to mock-treated controls (mean of 5 measurements per virus). Shown are the changes in titer\u001b[00m\n",
      "\n",
      "PAPER_ID:295036c0448244642eb6533de571def6cd8437e5\n",
      "\n",
      "\n",
      "THEME: \u001b[34mSusceptibility\u001b[00m - KEYWORDS: \u001b[32mpopulations\u001b[00m\n",
      "\n",
      "QUOTE: \u001b[0;37;40mpopulations by 77% since its discovery in 1996 [3] . There are currently two forms of DFTD 54\u001b[00m\n",
      "\n",
      "PAPER_ID:564f8823050b52b5f5c36638ac1ae07557963f36\n",
      "\n",
      "\n",
      "THEME: \u001b[34mSusceptibility\u001b[00m - KEYWORDS: \u001b[32mpopulations\u001b[00m\n",
      "\n",
      "QUOTE: \u001b[0;37;40mpopulations (p < 0.05). In general, 475 captive populations had lower diversity in their faecal viromes compared\u001b[00m\n",
      "\n",
      "PAPER_ID:564f8823050b52b5f5c36638ac1ae07557963f36\n",
      "\n",
      "\n",
      "THEME: \u001b[34mSusceptibility\u001b[00m - KEYWORDS: \u001b[32mpopulations\u001b[00m\n",
      "\n",
      "QUOTE: \u001b[0;37;40mpopulations had lower diversity in their faecal viromes compared to wild populations, as 476 measured using the chao1 metric.\u001b[00m\n",
      "\n",
      "PAPER_ID:564f8823050b52b5f5c36638ac1ae07557963f36\n",
      "\n",
      "\n",
      "THEME: \u001b[34mSusceptibility\u001b[00m - KEYWORDS: \u001b[32mpopulations\u001b[00m\n",
      "\n",
      "QUOTE: \u001b[0;37;40mpopulations, as 476 measured using the chao1 metric. However, when considering bacteriophage alone, we did not 477\u001b[00m\n",
      "\n",
      "PAPER_ID:564f8823050b52b5f5c36638ac1ae07557963f36\n",
      "\n",
      "\n",
      "THEME: \u001b[34mSusceptibility\u001b[00m - KEYWORDS: \u001b[32mpopulations\u001b[00m\n",
      "\n",
      "QUOTE: \u001b[0;37;40mpopulations (captive or wild) in either diversity or 478 abundance. The copyright holder for this preprint (which\u001b[00m\n",
      "\n",
      "PAPER_ID:564f8823050b52b5f5c36638ac1ae07557963f36\n",
      "\n",
      "\n",
      "THEME: \u001b[34mSusceptibility\u001b[00m - KEYWORDS: \u001b[32msusceptibility\u001b[00m\n",
      "\n",
      "QUOTE: \u001b[0;37;40msusceptibility to infection (VES) using seven different methods across three values of R0 under the baseline parameters in the\u001b[00m\n",
      "\n",
      "PAPER_ID:a3dcd6b3f0551e607d0235616109ab8d506f81a2\n",
      "\n",
      "\n",
      "THEME: \u001b[34mSusceptibility\u001b[00m - KEYWORDS: \u001b[32msusceptibility\u001b[00m\n",
      "\n",
      "QUOTE: \u001b[0;37;40msusceptibility to enteric infections or other production traits. Furthermore, porcine intestinal physiology is considered to closely resemble that of\u001b[00m\n",
      "\n",
      "PAPER_ID:aacc3acdd6a928fd820d51a2d1ea98c164b6abd4\n",
      "\n",
      "\n",
      "THEME: \u001b[34mSusceptibility\u001b[00m - KEYWORDS: \u001b[32msusceptibility\u001b[00m\n",
      "\n",
      "QUOTE: \u001b[0;37;40msusceptibility to infection [44] . In our study, we significantly more 292 frequently detected cases of simultaneous infection\u001b[00m\n",
      "\n",
      "PAPER_ID:ae4f1ac93bb55da1231f08eb1654f19352ab1a3f\n",
      "\n",
      "\n",
      "THEME: \u001b[34mSusceptibility\u001b[00m - KEYWORDS: \u001b[32mpopulations\u001b[00m\n",
      "\n",
      "QUOTE: \u001b[0;37;40mpopulations being exposed to CoV spillovers, which in part depends on contact with day roost The copyright holder for this\u001b[00m\n",
      "\n",
      "PAPER_ID:b0746b57a6c8f3cd9e52a27b0d708d069134b502\n",
      "\n",
      "\n",
      "THEME: \u001b[34mSusceptibility\u001b[00m - KEYWORDS: \u001b[32msusceptibility\u001b[00m\n",
      "\n",
      "QUOTE: \u001b[0;37;40msusceptibility to viral infection (47) ) and asthma development; others have proposed that antibiotic-induced disruption of the gut\u001b[00m\n",
      "\n",
      "PAPER_ID:c41fdb2efd6d61384a92a84cbba3f8233629a41b\n",
      "\n",
      "\n",
      "THEME: \u001b[34mSusceptibility\u001b[00m - KEYWORDS: \u001b[32mpopulations\u001b[00m\n",
      "\n",
      "QUOTE: \u001b[0;37;40mpopulations before and after a challenge. However, we found we could not rely on entropy signals as estimates for\u001b[00m\n",
      "\n",
      "PAPER_ID:e4e5e67fd4f75548dffab7f75484bc14fa15c0c2\n",
      "\n"
     ]
    }
   ],
   "source": [
    "match_it('Susceptibility', biomed_fo)"
   ]
  },
  {
   "cell_type": "markdown",
   "metadata": {},
   "source": [
    "### Additional info about the paper found."
   ]
  },
  {
   "cell_type": "markdown",
   "metadata": {},
   "source": [
    "PAPER_ID:564f8823050b52b5f5c36638ac1ae07557963f36 seems to match a lot.<br>\n",
    "Here is more info about it:"
   ]
  },
  {
   "cell_type": "code",
   "execution_count": 110,
   "metadata": {},
   "outputs": [
    {
     "name": "stdout",
     "output_type": "stream",
     "text": [
      "Title\n",
      "Characterisation of the faecal virome of captive and wild Tasmanian devils using virus-like particles metagenomics and meta-transcriptomics \n",
      "\n",
      "Authors\n",
      "Chong, R.; Shi, M.; Grueber, C. E.; Holmes, E. C.; Hogg, C.; Belov, K.; Barrs, V. R. \n",
      "\n",
      "Source: biorxiv \n",
      "\n",
      "Paper ID: 564f8823050b52b5f5c36638ac1ae07557963f36\n",
      "\n",
      "doi: doi.org/10.1101/443457 \n",
      "\n",
      "pmcid: nan - pubmed_id: nan \n",
      "\n",
      "Journal: nan\n",
      "\n",
      "-linked to-\n",
      "\n",
      "Microsoft Academic Paper ID: nan \n",
      "\n",
      "WHO #Covidence: nan\n"
     ]
    }
   ],
   "source": [
    "met_xiv(metadata,'564f8823050b52b5f5c36638ac1ae07557963f36')"
   ]
  },
  {
   "cell_type": "markdown",
   "metadata": {},
   "source": [
    "---"
   ]
  }
 ],
 "metadata": {
  "kernelspec": {
   "display_name": "c19",
   "language": "python",
   "name": "c19"
  },
  "language_info": {
   "codemirror_mode": {
    "name": "ipython",
    "version": 3
   },
   "file_extension": ".py",
   "mimetype": "text/x-python",
   "name": "python",
   "nbconvert_exporter": "python",
   "pygments_lexer": "ipython3",
   "version": "3.6.8"
  }
 },
 "nbformat": 4,
 "nbformat_minor": 2
}
