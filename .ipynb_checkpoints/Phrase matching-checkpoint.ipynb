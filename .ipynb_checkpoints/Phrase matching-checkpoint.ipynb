{
 "cells": [
  {
   "cell_type": "code",
   "execution_count": 1,
   "metadata": {},
   "outputs": [],
   "source": [
    "import scispacy\n",
    "import spacy\n",
    "from spacy import displacy\n",
    "from IPython.core.display import display, HTML\n",
    "\n",
    "nlp = spacy.load(\"en_core_sci_md\")\n",
    "\n",
    "from spacy.matcher import Matcher\n",
    "m_tool = Matcher(nlp.vocab)"
   ]
  },
  {
   "cell_type": "code",
   "execution_count": 2,
   "metadata": {},
   "outputs": [],
   "source": [
    "p1 = [{'LOWER': 'smoking'}]\n",
    "p2 = [{'LOWER': 'pulmonary'}, {'LOWER': 'disease'}]\n",
    "m_tool.add('pulmonary', None, p1, p2)\n",
    "  \n",
    "p3 = [{'LOWER': 'coinfections'}]\n",
    "p4 = [{'LOWER': 'coexisting'}]\n",
    "p5 = [{'LOWER': 'respiratory'}]\n",
    "p6 = [{'LOWER': 'viral'}, {'LOWER': 'infections'}]\n",
    "p7 = [{'LOWER': 'virus'}]\n",
    "p8 = [{'LOWER': 'transmissible'}]\n",
    "p9 = [{'LOWER': 'virulent'}]\n",
    "p10 = [{'LOWER': 'comorbidities'}]\n",
    "m_tool.add('coinfection', None, p3, p4, p5, p6, p7, p8, p9, p10)\n",
    "\n",
    "p11 = [{'LOWER': 'neonates'}]\n",
    "p12 = [{'LOWER': 'pregnant'}, {'LOWER': 'women'}]\n",
    "m_tool.add('birth', None, p11, p12)\n",
    "\n",
    "p13 = [{'LOWER': 'socio'}, {'IS_PUNCT': True}, {'LOWER': 'economic'}]\n",
    "p14 = [{'LOWER': 'behavioral'}, {'LOWER': 'factors'}]\n",
    "p15 = [{'LOWER': 'economic'}, {'LOWER': 'impact'}]\n",
    "p16 = [{'LOWER': 'virus'}]\n",
    "m_tool.add('socio-eco', None, p13, p14, p15, p16)\n",
    "\n",
    "p17 = [{'LOWER': 'transmission'}]\n",
    "p18 = [{'LOWER': 'dynamics'}]\n",
    "p19 = [{'LOWER': 'virus'}]\n",
    "p20 = [{'LOWER': 'basic'}, {'LOWER': 'reproductive'}, {'LOWER': 'number'}]\n",
    "p21 = [{'LOWER': 'incubation'}]\n",
    "p22 = [{'LOWER': 'serial'}, {'LOWER': 'interval'}]\n",
    "p23 = [{'LOWER': 'modes'}, {'LOWER': 'of'}, {'LOWER': 'transmission'}]\n",
    "p24 = [{'LOWER': 'environmental'}, {'LOWER': 'factors'}]\n",
    "m_tool.add('transmission', None, p17, p18, p19, p20, p21, p22, p23, p24)\n",
    "\n",
    "p25 = [{'LOWER': 'severity'}, {'LOWER': 'of'}, {'LOWER': 'disease'}]\n",
    "p26 = [{'LOWER': 'risk'}]\n",
    "p27 = [{'LOWER': 'fatality'}]\n",
    "p28 = [{'LOWER': 'symptomatic'}]\n",
    "p29 = [{'LOWER': 'hospitalized'}]\n",
    "p30 = [{'LOWER': 'patients'}]\n",
    "p31 = [{'LOWER': 'high'}, {'IS_PUNCT': True}, {'LOWER': 'risk'}]\n",
    "p32 = [{'LOWER': 'patient'}]\n",
    "m_tool.add('severity', None, p25, p26, p27, p28, p29, p30, p31, p32)\n",
    "\n",
    "p33 = [{'LOWER': 'susceptibility'}]\n",
    "p34 = [{'LOWER': 'populations'}]\n",
    "m_tool.add('popu_suscept', None, p33, p34)\n",
    "\n",
    "p35 = [{'LOWER': 'public'}, {'LOWER': 'health'}, {'LOWER': 'mitigation'}]\n",
    "p36 = [{'LOWER': 'measures'}]\n",
    "p37 = [{'LOWER': 'effective'}]\n",
    "p38 = [{'LOWER': 'control'}]\n",
    "m_tool.add('mitig_measure', None, p35, p36, p37, p38)"
   ]
  },
  {
   "cell_type": "code",
   "execution_count": 3,
   "metadata": {},
   "outputs": [],
   "source": [
    "text = nlp('Chronic obstructive pulmonary disease (COPD) is a type of obstructive \\\n",
    "lung disease characterized by long-term breathing problems patients preexisting and poor airflow. \\\n",
    "The main symptoms include shortness control of breath and cough with sputum production. \\\n",
    "COPD is a progressive disease with an extrem severity of disease, meaning it typically worsens over time. Smocking or smoking')"
   ]
  },
  {
   "cell_type": "code",
   "execution_count": 4,
   "metadata": {},
   "outputs": [
    {
     "name": "stdout",
     "output_type": "stream",
     "text": [
      "15767800522642418429 pulmonary 2 4 pulmonary disease\n",
      "927008021472305750 severity 19 20 patients\n",
      "13055426586332329327 mitig_measure 30 31 control\n",
      "927008021472305750 severity 47 50 severity of disease\n",
      "15767800522642418429 pulmonary 60 61 smoking\n"
     ]
    }
   ],
   "source": [
    "for match_id, start, end in m_tool(text):\n",
    "    string_id = nlp.vocab.strings[match_id]  \n",
    "    span = text[start:end]                   \n",
    "    print(match_id, string_id, start, end, span.text)"
   ]
  },
  {
   "cell_type": "code",
   "execution_count": 11,
   "metadata": {},
   "outputs": [
    {
     "data": {
      "text/html": [
       "<span class=\"tex2jax_ignore\"><!DOCTYPE html>\n",
       "<html lang=\"en\">\n",
       "    <head>\n",
       "        <title>displaCy</title>\n",
       "    </head>\n",
       "\n",
       "    <body style=\"font-size: 16px; font-family: -apple-system, BlinkMacSystemFont, 'Segoe UI', Helvetica, Arial, sans-serif, 'Apple Color Emoji', 'Segoe UI Emoji', 'Segoe UI Symbol'; padding: 4rem 2rem; direction: ltr\">\n",
       "<figure style=\"margin-bottom: 6rem\">\n",
       "<div class=\"entities\" style=\"line-height: 2.5; direction: ltr\">Chronic obstructive pulmonary disease (COPD) is a type of obstructive lung disease characterized by long-term breathing problems patients preexisting and poor airflow. The main symptoms include shortness control of breath and cough with sputum production. COPD is a progressive disease with an extrem severity of disease, meaning it typically worsens over time. Smocking or smoking</div>\n",
       "</figure>\n",
       "</body>\n",
       "</html></span>"
      ],
      "text/plain": [
       "<IPython.core.display.HTML object>"
      ]
     },
     "metadata": {},
     "output_type": "display_data"
    },
    {
     "data": {
      "text/plain": [
       "<IPython.core.display.HTML object>"
      ]
     },
     "metadata": {},
     "output_type": "display_data"
    }
   ],
   "source": [
    "colors = {\"pulmonary\": \"linear-gradient(90deg, #aa9cfc, #fc9ce7)\"}\n",
    "options = {\"ents\": [\"pulmonary\"], \"colors\": colors}\n",
    "html = displacy.render(text, style=\"ent\", page=True, options=options)\n",
    "display(HTML(html))"
   ]
  },
  {
   "cell_type": "code",
   "execution_count": 17,
   "metadata": {},
   "outputs": [
    {
     "data": {
      "text/html": [
       "<span class=\"tex2jax_ignore\"><div class=\"entities\" style=\"line-height: 2.5; direction: ltr\">\n",
       "<mark class=\"entity\" style=\"background: #ddd; padding: 0.45em 0.6em; margin: 0 0.25em; line-height: 1; border-radius: 0.35em;\">\n",
       "    Chronic obstructive pulmonary disease\n",
       "    <span style=\"font-size: 0.8em; font-weight: bold; line-height: 1; border-radius: 0.35em; text-transform: uppercase; vertical-align: middle; margin-left: 0.5rem\">ENTITY</span>\n",
       "</mark>\n",
       " (\n",
       "<mark class=\"entity\" style=\"background: #ddd; padding: 0.45em 0.6em; margin: 0 0.25em; line-height: 1; border-radius: 0.35em;\">\n",
       "    COPD\n",
       "    <span style=\"font-size: 0.8em; font-weight: bold; line-height: 1; border-radius: 0.35em; text-transform: uppercase; vertical-align: middle; margin-left: 0.5rem\">ENTITY</span>\n",
       "</mark>\n",
       ") is a type of \n",
       "<mark class=\"entity\" style=\"background: #ddd; padding: 0.45em 0.6em; margin: 0 0.25em; line-height: 1; border-radius: 0.35em;\">\n",
       "    obstructive lung disease\n",
       "    <span style=\"font-size: 0.8em; font-weight: bold; line-height: 1; border-radius: 0.35em; text-transform: uppercase; vertical-align: middle; margin-left: 0.5rem\">ENTITY</span>\n",
       "</mark>\n",
       " characterized by \n",
       "<mark class=\"entity\" style=\"background: #ddd; padding: 0.45em 0.6em; margin: 0 0.25em; line-height: 1; border-radius: 0.35em;\">\n",
       "    long-term\n",
       "    <span style=\"font-size: 0.8em; font-weight: bold; line-height: 1; border-radius: 0.35em; text-transform: uppercase; vertical-align: middle; margin-left: 0.5rem\">ENTITY</span>\n",
       "</mark>\n",
       " \n",
       "<mark class=\"entity\" style=\"background: #ddd; padding: 0.45em 0.6em; margin: 0 0.25em; line-height: 1; border-radius: 0.35em;\">\n",
       "    breathing problems\n",
       "    <span style=\"font-size: 0.8em; font-weight: bold; line-height: 1; border-radius: 0.35em; text-transform: uppercase; vertical-align: middle; margin-left: 0.5rem\">ENTITY</span>\n",
       "</mark>\n",
       " preexisting and \n",
       "<mark class=\"entity\" style=\"background: #ddd; padding: 0.45em 0.6em; margin: 0 0.25em; line-height: 1; border-radius: 0.35em;\">\n",
       "    poor airflow\n",
       "    <span style=\"font-size: 0.8em; font-weight: bold; line-height: 1; border-radius: 0.35em; text-transform: uppercase; vertical-align: middle; margin-left: 0.5rem\">ENTITY</span>\n",
       "</mark>\n",
       ". The main \n",
       "<mark class=\"entity\" style=\"background: #ddd; padding: 0.45em 0.6em; margin: 0 0.25em; line-height: 1; border-radius: 0.35em;\">\n",
       "    symptoms\n",
       "    <span style=\"font-size: 0.8em; font-weight: bold; line-height: 1; border-radius: 0.35em; text-transform: uppercase; vertical-align: middle; margin-left: 0.5rem\">ENTITY</span>\n",
       "</mark>\n",
       " include \n",
       "<mark class=\"entity\" style=\"background: #ddd; padding: 0.45em 0.6em; margin: 0 0.25em; line-height: 1; border-radius: 0.35em;\">\n",
       "    shortness control\n",
       "    <span style=\"font-size: 0.8em; font-weight: bold; line-height: 1; border-radius: 0.35em; text-transform: uppercase; vertical-align: middle; margin-left: 0.5rem\">ENTITY</span>\n",
       "</mark>\n",
       " of \n",
       "<mark class=\"entity\" style=\"background: #ddd; padding: 0.45em 0.6em; margin: 0 0.25em; line-height: 1; border-radius: 0.35em;\">\n",
       "    breath\n",
       "    <span style=\"font-size: 0.8em; font-weight: bold; line-height: 1; border-radius: 0.35em; text-transform: uppercase; vertical-align: middle; margin-left: 0.5rem\">ENTITY</span>\n",
       "</mark>\n",
       " and \n",
       "<mark class=\"entity\" style=\"background: #ddd; padding: 0.45em 0.6em; margin: 0 0.25em; line-height: 1; border-radius: 0.35em;\">\n",
       "    cough\n",
       "    <span style=\"font-size: 0.8em; font-weight: bold; line-height: 1; border-radius: 0.35em; text-transform: uppercase; vertical-align: middle; margin-left: 0.5rem\">ENTITY</span>\n",
       "</mark>\n",
       " with \n",
       "<mark class=\"entity\" style=\"background: #ddd; padding: 0.45em 0.6em; margin: 0 0.25em; line-height: 1; border-radius: 0.35em;\">\n",
       "    sputum production\n",
       "    <span style=\"font-size: 0.8em; font-weight: bold; line-height: 1; border-radius: 0.35em; text-transform: uppercase; vertical-align: middle; margin-left: 0.5rem\">ENTITY</span>\n",
       "</mark>\n",
       ". \n",
       "<mark class=\"entity\" style=\"background: #ddd; padding: 0.45em 0.6em; margin: 0 0.25em; line-height: 1; border-radius: 0.35em;\">\n",
       "    COPD\n",
       "    <span style=\"font-size: 0.8em; font-weight: bold; line-height: 1; border-radius: 0.35em; text-transform: uppercase; vertical-align: middle; margin-left: 0.5rem\">ENTITY</span>\n",
       "</mark>\n",
       " is a \n",
       "<mark class=\"entity\" style=\"background: #ddd; padding: 0.45em 0.6em; margin: 0 0.25em; line-height: 1; border-radius: 0.35em;\">\n",
       "    progressive disease\n",
       "    <span style=\"font-size: 0.8em; font-weight: bold; line-height: 1; border-radius: 0.35em; text-transform: uppercase; vertical-align: middle; margin-left: 0.5rem\">ENTITY</span>\n",
       "</mark>\n",
       " with an \n",
       "<mark class=\"entity\" style=\"background: #ddd; padding: 0.45em 0.6em; margin: 0 0.25em; line-height: 1; border-radius: 0.35em;\">\n",
       "    extrem severity of disease\n",
       "    <span style=\"font-size: 0.8em; font-weight: bold; line-height: 1; border-radius: 0.35em; text-transform: uppercase; vertical-align: middle; margin-left: 0.5rem\">ENTITY</span>\n",
       "</mark>\n",
       ", meaning it typically worsens over time. \n",
       "<mark class=\"entity\" style=\"background: #ddd; padding: 0.45em 0.6em; margin: 0 0.25em; line-height: 1; border-radius: 0.35em;\">\n",
       "    Smocking\n",
       "    <span style=\"font-size: 0.8em; font-weight: bold; line-height: 1; border-radius: 0.35em; text-transform: uppercase; vertical-align: middle; margin-left: 0.5rem\">ENTITY</span>\n",
       "</mark>\n",
       " or \n",
       "<mark class=\"entity\" style=\"background: #ddd; padding: 0.45em 0.6em; margin: 0 0.25em; line-height: 1; border-radius: 0.35em;\">\n",
       "    smoking\n",
       "    <span style=\"font-size: 0.8em; font-weight: bold; line-height: 1; border-radius: 0.35em; text-transform: uppercase; vertical-align: middle; margin-left: 0.5rem\">ENTITY</span>\n",
       "</mark>\n",
       "</div></span>"
      ],
      "text/plain": [
       "<IPython.core.display.HTML object>"
      ]
     },
     "metadata": {},
     "output_type": "display_data"
    },
    {
     "data": {
      "text/plain": [
       "<IPython.core.display.HTML object>"
      ]
     },
     "metadata": {},
     "output_type": "display_data"
    }
   ],
   "source": [
    "# displacy.serve(text, style = 'ent', jupyter=True)\n",
    "options = {\"color\": \"blue\"}\n"
   ]
  },
  {
   "cell_type": "markdown",
   "metadata": {},
   "source": [
    "## Phrases' coordinates >> text tag visualization"
   ]
  },
  {
   "cell_type": "code",
   "execution_count": null,
   "metadata": {},
   "outputs": [],
   "source": []
  }
 ],
 "metadata": {
  "kernelspec": {
   "display_name": "c19",
   "language": "python",
   "name": "c19"
  },
  "language_info": {
   "codemirror_mode": {
    "name": "ipython",
    "version": 3
   },
   "file_extension": ".py",
   "mimetype": "text/x-python",
   "name": "python",
   "nbconvert_exporter": "python",
   "pygments_lexer": "ipython3",
   "version": "3.6.8"
  }
 },
 "nbformat": 4,
 "nbformat_minor": 2
}
