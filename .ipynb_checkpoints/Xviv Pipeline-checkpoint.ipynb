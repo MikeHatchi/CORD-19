{
 "cells": [
  {
   "cell_type": "markdown",
   "metadata": {},
   "source": [
    "# Xviv Pipeline"
   ]
  },
  {
   "cell_type": "markdown",
   "metadata": {},
   "source": [
    "###  Text article retrievement"
   ]
  },
  {
   "cell_type": "code",
   "execution_count": 23,
   "metadata": {},
   "outputs": [],
   "source": [
    "import os\n",
    "import json\n",
    "import glob"
   ]
  },
  {
   "cell_type": "code",
   "execution_count": 13,
   "metadata": {},
   "outputs": [],
   "source": [
    "# json files'path from each folder\n",
    "biomed_path = \"2020-03-13/biorxiv_medrxiv/biorxiv_medrxiv/*.json\"  # bio and med archive\n",
    "commu_path = \"2020-03-13/comm_use_subset/comm_use_subset/*.json\"\n",
    "noncom_path = \"2020-03-13/noncomm_use_subset/noncomm_use_subset/*.json\"\n",
    "pmc_path = \"2020-03-13/pmc_custom_license/pmc_custom_license/*.json\""
   ]
  },
  {
   "cell_type": "code",
   "execution_count": 51,
   "metadata": {},
   "outputs": [],
   "source": [
    "# json file access function\n",
    "def data_access(path):\n",
    "    d_acc = {}\n",
    "    for i in glob.glob(path):\n",
    "        # link = os.path.normpath(i)\n",
    "        # print(link)\n",
    "        \n",
    "        # loading json file function\n",
    "        with open(os.path.normpath(i)) as json_file:\n",
    "            data = json.load(json_file)\n",
    "            paper_id = data['paper_id']\n",
    "            \n",
    "            # text = [item['text'] for item in data['body_text']]\n",
    "            for item in data['body_text']:\n",
    "                text = (item['text'])\n",
    "                \n",
    "                d_acc[paper_id] = text\n",
    "    return d_acc"
   ]
  },
  {
   "cell_type": "code",
   "execution_count": 53,
   "metadata": {},
   "outputs": [
    {
     "name": "stdout",
     "output_type": "stream",
     "text": [
      "<class 'str'>\n"
     ]
    }
   ],
   "source": [
    "print(type(data_access(pmc_path)))"
   ]
  },
  {
   "cell_type": "code",
   "execution_count": 20,
   "metadata": {},
   "outputs": [],
   "source": []
  },
  {
   "cell_type": "code",
   "execution_count": null,
   "metadata": {},
   "outputs": [],
   "source": []
  }
 ],
 "metadata": {
  "kernelspec": {
   "display_name": "c19",
   "language": "python",
   "name": "c19"
  },
  "language_info": {
   "codemirror_mode": {
    "name": "ipython",
    "version": 3
   },
   "file_extension": ".py",
   "mimetype": "text/x-python",
   "name": "python",
   "nbconvert_exporter": "python",
   "pygments_lexer": "ipython3",
   "version": "3.6.8"
  }
 },
 "nbformat": 4,
 "nbformat_minor": 2
}
