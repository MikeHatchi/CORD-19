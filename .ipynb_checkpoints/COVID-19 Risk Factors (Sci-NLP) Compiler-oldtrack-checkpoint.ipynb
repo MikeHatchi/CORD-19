{
 "cells": [
  {
   "cell_type": "markdown",
   "metadata": {},
   "source": [
    "# COVID-19 Open Research Dataset Challenge (CORD-19)\n",
    "An AI challenge with AI2, CZI, MSR, Georgetown, NIH & The White House\n",
    "\n",
    "### Task: What do we know about COVID-19 risk factors?"
   ]
  },
  {
   "cell_type": "markdown",
   "metadata": {},
   "source": [
    "---"
   ]
  },
  {
   "cell_type": "markdown",
   "metadata": {},
   "source": [
    "### Information about the data"
   ]
  },
  {
   "cell_type": "markdown",
   "metadata": {},
   "source": [
    "1. Metadata for papers from these sources are combined: CZI, PMC, BioRxiv/MedRxiv.\n",
    "(total records 29500)\n",
    "    - CZI 1236 records\n",
    "    - PMC 27337\n",
    "    - bioRxiv 566\n",
    "    - medRxiv 361\n",
    "2. 17K of the paper records have PDFs and the hash of the PDFs are in 'sha'<br>\n",
    "3. For PMC sourced papers, one paper's metadata can be associated with one or more PDFs/shas under that paper - a PDF/sha correponding to the main article, and possibly additional PDF/shas corresponding to supporting materials for the article.<br>\n",
    "4. 13K of the PDFs were processed with fulltext ('has_full_text'=True)<br>\n",
    "5. Various 'keys' are populated with the metadata:\n",
    "    - 'pmcid': populated for all PMC paper records (27337 non null)\n",
    "\t- 'doi': populated for all BioRxiv/MedRxiv paper records and most of the other records (26357 non null)\n",
    "\t- 'WHO #Covidence': populated for all CZI records and none of the other records (1236 non null)\n",
    "\t- 'pubmed_id': populated for some of the records\n",
    "\t- 'Microsoft Academic Paper ID': populated for some of the records\n",
    "---\n",
    "- Commercial use subset (includes PMC content) -- 9118 full text (new: 128), 183Mb\n",
    "- Non-commercial use subset (includes PMC content) -- 2353 full text (new: 385), 41Mb\n",
    "- Custom license subset -- 16959 full text (new: 15533), 345Mb\n",
    "- bioRxiv/medRxiv subset (pre-prints that are not peer reviewed) -- 885 full text (new: 110), 14Mb\n",
    "- Metadata file -- 60Mb\n",
    "\n",
    "---\n",
    "**Chan Zuckerberg Initiative (CZI)**<br>\n",
    "**PubMed Central (PMC)** is a free digital repository that archives publicly accessible full-text scholarly articles that have been published within the biomedical and life sciences journal literature.<br>\n",
    "**BioRxiv** (pronounced \"bio-archive\") is an open access preprint repository for the biological sciences<br>\n",
    "**medRxiv. medRxiv** (pronounced med archive) is a preprint service for the medicine and health sciences and provides a free online platform for researchers to share, comment, and receive feedback on their work. Information among scientists spreads slowly, and often incompletely.\n",
    "\n",
    "[More details on dataset](https://pages.semanticscholar.org/coronavirus-research)"
   ]
  },
  {
   "cell_type": "markdown",
   "metadata": {},
   "source": [
    "---"
   ]
  },
  {
   "cell_type": "markdown",
   "metadata": {},
   "source": [
    "# Patternizing the themes\n",
    "This is what we have to find among the 29 500 archives."
   ]
  },
  {
   "cell_type": "markdown",
   "metadata": {},
   "source": [
    "## Transform the required themes"
   ]
  },
  {
   "cell_type": "code",
   "execution_count": 1,
   "metadata": {},
   "outputs": [],
   "source": [
    "import pandas as pd\n",
    "from io import StringIO"
   ]
  },
  {
   "cell_type": "markdown",
   "metadata": {},
   "source": [
    "### Initial form of the themes:\n",
    "> What do we know about COVID-19 risk factors? What have we learned from epidemiological studies?<br>\n",
    "<br>Specifically, we want to know what the literature reports about:\n",
    "1. Data on potential risks factors\n",
    "    - Smoking, pre-existing pulmonary disease\n",
    "    - Co-infections (determine whether co-existing respiratory/viral infections make the virus more transmissible or virulent) and other co-morbidities\n",
    "    - Neonates and pregnant women\n",
    "    - Socio-economic and behavioral factors to understand the economic impact of the virus and whether there were differences.\n",
    "2. Transmission dynamics of the virus, including the basic reproductive number, incubation period, serial interval, modes of transmission and environmental factors\n",
    "3. Severity of disease, including risk of fatality among symptomatic hospitalized patients, and high-risk patient groups\n",
    "4. Susceptibility of populations\n",
    "5. Public health mitigation measures that could be effective for control"
   ]
  },
  {
   "cell_type": "markdown",
   "metadata": {},
   "source": [
    "### Keeping track of record of the themes by exporting them as .csv"
   ]
  },
  {
   "cell_type": "code",
   "execution_count": 2,
   "metadata": {},
   "outputs": [
    {
     "data": {
      "text/html": [
       "<div>\n",
       "<style scoped>\n",
       "    .dataframe tbody tr th:only-of-type {\n",
       "        vertical-align: middle;\n",
       "    }\n",
       "\n",
       "    .dataframe tbody tr th {\n",
       "        vertical-align: top;\n",
       "    }\n",
       "\n",
       "    .dataframe thead th {\n",
       "        text-align: right;\n",
       "    }\n",
       "</style>\n",
       "<table border=\"1\" class=\"dataframe\">\n",
       "  <thead>\n",
       "    <tr style=\"text-align: right;\">\n",
       "      <th></th>\n",
       "      <th>Factor</th>\n",
       "      <th>Description</th>\n",
       "    </tr>\n",
       "  </thead>\n",
       "  <tbody>\n",
       "    <tr>\n",
       "      <th>0</th>\n",
       "      <td>Pulmorary risk</td>\n",
       "      <td>Smoking, preexisting pulmonary disease</td>\n",
       "    </tr>\n",
       "    <tr>\n",
       "      <th>1</th>\n",
       "      <td>Infection risk</td>\n",
       "      <td>Coinfections determine whether coexisting resp...</td>\n",
       "    </tr>\n",
       "    <tr>\n",
       "      <th>2</th>\n",
       "      <td>Birth risk</td>\n",
       "      <td>Neonates and pregnant women</td>\n",
       "    </tr>\n",
       "    <tr>\n",
       "      <th>3</th>\n",
       "      <td>Socio-economic risk</td>\n",
       "      <td>Socio-economic and behavioral factors to under...</td>\n",
       "    </tr>\n",
       "    <tr>\n",
       "      <th>4</th>\n",
       "      <td>Transmission</td>\n",
       "      <td>Transmission dynamics of the virus, including ...</td>\n",
       "    </tr>\n",
       "    <tr>\n",
       "      <th>5</th>\n",
       "      <td>Severity</td>\n",
       "      <td>Severity of disease, including risk of fatalit...</td>\n",
       "    </tr>\n",
       "    <tr>\n",
       "      <th>6</th>\n",
       "      <td>Susceptibility</td>\n",
       "      <td>Susceptibility of populations</td>\n",
       "    </tr>\n",
       "    <tr>\n",
       "      <th>7</th>\n",
       "      <td>mitig measures</td>\n",
       "      <td>Public health mitigation measures that could b...</td>\n",
       "    </tr>\n",
       "  </tbody>\n",
       "</table>\n",
       "</div>"
      ],
      "text/plain": [
       "                    Factor                                        Description\n",
       "0           Pulmorary risk             Smoking, preexisting pulmonary disease\n",
       "1           Infection risk  Coinfections determine whether coexisting resp...\n",
       "2               Birth risk                        Neonates and pregnant women\n",
       "3      Socio-economic risk  Socio-economic and behavioral factors to under...\n",
       "4             Transmission  Transmission dynamics of the virus, including ...\n",
       "5                 Severity  Severity of disease, including risk of fatalit...\n",
       "6           Susceptibility                      Susceptibility of populations\n",
       "7           mitig measures  Public health mitigation measures that could b..."
      ]
     },
     "execution_count": 2,
     "metadata": {},
     "output_type": "execute_result"
    }
   ],
   "source": [
    "riskfac = StringIO(\"\"\"Factor;Description\n",
    "    Pulmorary risk;Smoking, preexisting pulmonary disease\n",
    "    Infection risk;Coinfections determine whether coexisting respiratory or viral infections make the virus more transmissible or virulent and other comorbidities\n",
    "    Birth risk;Neonates and pregnant women\n",
    "    Socio-economic risk;Socio-economic and behavioral factors to understand the economic impact of the virus and whether there were differences\n",
    "    Transmission;Transmission dynamics of the virus, including the basic reproductive number, incubation period, serial interval, modes of transmission and environmental factors\n",
    "    Severity;Severity of disease, including risk of fatality among symptomatic hospitalized patients, and high-risk patient groups\n",
    "    Susceptibility;Susceptibility of populations\n",
    "    mitig measures;Public health mitigation measures that could be effective for control\n",
    "    \"\"\")\n",
    "\n",
    "rf_base = pd.read_csv(riskfac, sep= \";\")\n",
    "rf_base"
   ]
  },
  {
   "cell_type": "code",
   "execution_count": 3,
   "metadata": {},
   "outputs": [],
   "source": [
    "# exporting factors and description to save it.\n",
    "rf_base.to_csv(r'2020-03-13/rf_base.csv', index = False)"
   ]
  },
  {
   "cell_type": "markdown",
   "metadata": {},
   "source": [
    "### Loading the themes"
   ]
  },
  {
   "cell_type": "code",
   "execution_count": 4,
   "metadata": {},
   "outputs": [
    {
     "data": {
      "text/html": [
       "<div>\n",
       "<style scoped>\n",
       "    .dataframe tbody tr th:only-of-type {\n",
       "        vertical-align: middle;\n",
       "    }\n",
       "\n",
       "    .dataframe tbody tr th {\n",
       "        vertical-align: top;\n",
       "    }\n",
       "\n",
       "    .dataframe thead th {\n",
       "        text-align: right;\n",
       "    }\n",
       "</style>\n",
       "<table border=\"1\" class=\"dataframe\">\n",
       "  <thead>\n",
       "    <tr style=\"text-align: right;\">\n",
       "      <th></th>\n",
       "      <th>Description</th>\n",
       "      <th>index</th>\n",
       "    </tr>\n",
       "  </thead>\n",
       "  <tbody>\n",
       "    <tr>\n",
       "      <th>0</th>\n",
       "      <td>Smoking, preexisting pulmonary disease</td>\n",
       "      <td>0</td>\n",
       "    </tr>\n",
       "    <tr>\n",
       "      <th>1</th>\n",
       "      <td>Coinfections determine whether coexisting resp...</td>\n",
       "      <td>1</td>\n",
       "    </tr>\n",
       "    <tr>\n",
       "      <th>2</th>\n",
       "      <td>Neonates and pregnant women</td>\n",
       "      <td>2</td>\n",
       "    </tr>\n",
       "    <tr>\n",
       "      <th>3</th>\n",
       "      <td>Socio-economic and behavioral factors to under...</td>\n",
       "      <td>3</td>\n",
       "    </tr>\n",
       "    <tr>\n",
       "      <th>4</th>\n",
       "      <td>Transmission dynamics of the virus, including ...</td>\n",
       "      <td>4</td>\n",
       "    </tr>\n",
       "    <tr>\n",
       "      <th>5</th>\n",
       "      <td>Severity of disease, including risk of fatalit...</td>\n",
       "      <td>5</td>\n",
       "    </tr>\n",
       "    <tr>\n",
       "      <th>6</th>\n",
       "      <td>Susceptibility of populations</td>\n",
       "      <td>6</td>\n",
       "    </tr>\n",
       "    <tr>\n",
       "      <th>7</th>\n",
       "      <td>Public health mitigation measures that could b...</td>\n",
       "      <td>7</td>\n",
       "    </tr>\n",
       "  </tbody>\n",
       "</table>\n",
       "</div>"
      ],
      "text/plain": [
       "                                         Description  index\n",
       "0             Smoking, preexisting pulmonary disease      0\n",
       "1  Coinfections determine whether coexisting resp...      1\n",
       "2                        Neonates and pregnant women      2\n",
       "3  Socio-economic and behavioral factors to under...      3\n",
       "4  Transmission dynamics of the virus, including ...      4\n",
       "5  Severity of disease, including risk of fatalit...      5\n",
       "6                      Susceptibility of populations      6\n",
       "7  Public health mitigation measures that could b...      7"
      ]
     },
     "execution_count": 4,
     "metadata": {},
     "output_type": "execute_result"
    }
   ],
   "source": [
    "data = pd.read_csv('2020-03-13/rf_base.csv', delimiter=',', header=None, skiprows=1, names=['Factor','Description'])\n",
    "# We only need the Headlines text column from the data\n",
    "descp = data[:8][['Description']];\n",
    "descp['index'] = descp.index\n",
    "descp"
   ]
  },
  {
   "cell_type": "markdown",
   "metadata": {},
   "source": [
    "## Tokenization of the themes with [ScispaCy package](https://allenai.github.io/scispacy/)"
   ]
  },
  {
   "cell_type": "markdown",
   "metadata": {},
   "source": [
    "### Preview of themes after preprocessing\n",
    "Sci-SpaCy are models for biomedical text processing made by Allen Institute [AI2](https://alleninstitute.org)"
   ]
  },
  {
   "cell_type": "markdown",
   "metadata": {},
   "source": [
    "### Defining Patterns"
   ]
  },
  {
   "cell_type": "code",
   "execution_count": 5,
   "metadata": {},
   "outputs": [
    {
     "name": "stdout",
     "output_type": "stream",
     "text": [
      "(Smoking, pulmonary disease)\n",
      "(Coinfections, coexisting, respiratory, viral infections, virus, transmissible, virulent, comorbidities)\n",
      "(Neonates, pregnant women)\n",
      "(Socio-economic, behavioral factors, economic impact, virus)\n",
      "(Transmission, dynamics, virus, basic reproductive number, incubation, serial interval, modes, transmission, environmental factors)\n",
      "(Severity of disease, risk, fatality, symptomatic, hospitalized, patients, high-risk, patient)\n",
      "(Susceptibility, populations)\n",
      "(Public health mitigation, measures, effective, control)\n"
     ]
    }
   ],
   "source": [
    "import scispacy\n",
    "import spacy\n",
    "from spacy import displacy\n",
    "\n",
    "\n",
    "nlp = spacy.load(\"en_core_sci_md\") # \"en_core_sci_md\" larger biodmedical vocab. word vector\n",
    "\n",
    "def patternizing(dataF):\n",
    "    for i in range(8):\n",
    "        theme_sample = dataF[dataF['index'] == i].values[0][0]\n",
    "\n",
    "        text = theme_sample\n",
    "        # print(theme_sample)\n",
    "\n",
    "        doc = nlp(text)\n",
    "       \n",
    "        # print(list(doc.sents))\n",
    "        print(doc.ents)\n",
    "        \n",
    "        # displacy.render(next(doc.sents), style='dep', jupyter=True)\n",
    "patternizing(descp)"
   ]
  },
  {
   "cell_type": "code",
   "execution_count": 17,
   "metadata": {},
   "outputs": [],
   "source": [
    "def pRnize(dataF, indice):\n",
    "    mastlist = []\n",
    "    n_cov2 = ['covid19', 'covid-19',\n",
    "              'Covid19', 'Covid-19',\n",
    "              'COVID19', 'COVID-19',\n",
    "              'Sars-Cov-2', 'Sars-CoV-2', 'Sars-COV-2', 'Sars-cov-2',\n",
    "              'SARS-Cov-2', 'SARS-CoV-2', 'SARS-COV-2', 'SARS-cov-2',\n",
    "              'sars-Cov-2', 'sars-CoV-2', 'sars-COV-2', 'sars-cov-2',\n",
    "              'Sars Cov-2', 'Sars CoV-2', 'Sars COV-2', 'Sars cov-2',\n",
    "              'SARS Cov-2', 'SARS CoV-2', 'SARS COV-2', 'SARS cov-2',\n",
    "              'sars Cov-2', 'sars CoV-2', 'sars COV-2', 'sars cov-2',\n",
    "              'Sars-Cov 2', 'Sars-CoV 2', 'Sars-COV 2', 'Sars-cov 2',\n",
    "              'SARS-Cov 2', 'SARS-CoV 2', 'SARS-COV 2', 'SARS-cov 2',\n",
    "              'sars-Cov 2', 'sars-CoV 2', 'sars-COV 2', 'sars-cov 2',\n",
    "              'Sars Cov 2', 'Sars CoV 2', 'Sars COV 2', 'Sars cov 2',\n",
    "              'SARS Cov 2', 'SARS CoV 2', 'SARS COV 2', 'SARS cov 2',\n",
    "              'sars Cov 2', 'sars CoV 2', 'sars COV 2', 'sars cov 2',\n",
    "              'Sars Cov2', 'Sars CoV2', 'Sars COV2', 'Sars cov2',\n",
    "              'SARS Cov2', 'SARS CoV2', 'SARS COV2', 'SARS cov2',\n",
    "              'sars Cov2', 'sars CoV2', 'sars COV2', 'sars cov2',]\n",
    "    \n",
    "    for i in range(8):\n",
    "        factor = []\n",
    "        theme_sample = dataF[dataF['index'] == i].values[0][0]\n",
    "\n",
    "        text = theme_sample\n",
    "\n",
    "        doc = nlp(text) \n",
    "        \n",
    "        for item in doc.ents:\n",
    "            vocab = str(item).lower().strip('()')\n",
    "            \n",
    "            factor.append(vocab)\n",
    "        \n",
    "        for name in n_cov2:\n",
    "            factor.append(name)\n",
    "        mastlist.append(factor)\n",
    "    return mastlist[indice]\n",
    "\n",
    "#pRnize(descp, 0)"
   ]
  },
  {
   "cell_type": "code",
   "execution_count": 16,
   "metadata": {},
   "outputs": [
    {
     "name": "stdout",
     "output_type": "stream",
     "text": [
      "['smoking', 'pulmonary disease', 'covid19', 'covid-19', 'Covid19', 'Covid-19', 'COVID19', 'COVID-19', 'Sars-Cov-2', 'Sars-CoV-2', 'Sars-COV-2', 'Sars-cov-2', 'SARS-Cov-2', 'SARS-CoV-2', 'SARS-COV-2', 'SARS-cov-2', 'sars-Cov-2', 'sars-CoV-2', 'sars-COV-2', 'sars-cov-2', 'Sars Cov-2', 'Sars CoV-2', 'Sars COV-2', 'Sars cov-2', 'SARS Cov-2', 'SARS CoV-2', 'SARS COV-2', 'SARS cov-2', 'sars Cov-2', 'sars CoV-2', 'sars COV-2', 'sars cov-2', 'Sars-Cov 2', 'Sars-CoV 2', 'Sars-COV 2', 'Sars-cov 2', 'SARS-Cov 2', 'SARS-CoV 2', 'SARS-COV 2', 'SARS-cov 2', 'sars-Cov 2', 'sars-CoV 2', 'sars-COV 2', 'sars-cov 2', 'Sars Cov 2', 'Sars CoV 2', 'Sars COV 2', 'Sars cov 2', 'SARS Cov 2', 'SARS CoV 2', 'SARS COV 2', 'SARS cov 2', 'sars Cov 2', 'sars CoV 2', 'sars COV 2', 'sars cov 2', 'Sars Cov2', 'Sars CoV2', 'Sars COV2', 'Sars cov2', 'SARS Cov2', 'SARS CoV2', 'SARS COV2', 'SARS cov2', 'sars Cov2', 'sars CoV2', 'sars COV2', 'sars cov2']\n",
      "['coinfections', 'coexisting', 'respiratory', 'viral infections', 'virus', 'transmissible', 'virulent', 'comorbidities', 'covid19', 'covid-19', 'Covid19', 'Covid-19', 'COVID19', 'COVID-19', 'Sars-Cov-2', 'Sars-CoV-2', 'Sars-COV-2', 'Sars-cov-2', 'SARS-Cov-2', 'SARS-CoV-2', 'SARS-COV-2', 'SARS-cov-2', 'sars-Cov-2', 'sars-CoV-2', 'sars-COV-2', 'sars-cov-2', 'Sars Cov-2', 'Sars CoV-2', 'Sars COV-2', 'Sars cov-2', 'SARS Cov-2', 'SARS CoV-2', 'SARS COV-2', 'SARS cov-2', 'sars Cov-2', 'sars CoV-2', 'sars COV-2', 'sars cov-2', 'Sars-Cov 2', 'Sars-CoV 2', 'Sars-COV 2', 'Sars-cov 2', 'SARS-Cov 2', 'SARS-CoV 2', 'SARS-COV 2', 'SARS-cov 2', 'sars-Cov 2', 'sars-CoV 2', 'sars-COV 2', 'sars-cov 2', 'Sars Cov 2', 'Sars CoV 2', 'Sars COV 2', 'Sars cov 2', 'SARS Cov 2', 'SARS CoV 2', 'SARS COV 2', 'SARS cov 2', 'sars Cov 2', 'sars CoV 2', 'sars COV 2', 'sars cov 2', 'Sars Cov2', 'Sars CoV2', 'Sars COV2', 'Sars cov2', 'SARS Cov2', 'SARS CoV2', 'SARS COV2', 'SARS cov2', 'sars Cov2', 'sars CoV2', 'sars COV2', 'sars cov2']\n",
      "['neonates', 'pregnant women', 'covid19', 'covid-19', 'Covid19', 'Covid-19', 'COVID19', 'COVID-19', 'Sars-Cov-2', 'Sars-CoV-2', 'Sars-COV-2', 'Sars-cov-2', 'SARS-Cov-2', 'SARS-CoV-2', 'SARS-COV-2', 'SARS-cov-2', 'sars-Cov-2', 'sars-CoV-2', 'sars-COV-2', 'sars-cov-2', 'Sars Cov-2', 'Sars CoV-2', 'Sars COV-2', 'Sars cov-2', 'SARS Cov-2', 'SARS CoV-2', 'SARS COV-2', 'SARS cov-2', 'sars Cov-2', 'sars CoV-2', 'sars COV-2', 'sars cov-2', 'Sars-Cov 2', 'Sars-CoV 2', 'Sars-COV 2', 'Sars-cov 2', 'SARS-Cov 2', 'SARS-CoV 2', 'SARS-COV 2', 'SARS-cov 2', 'sars-Cov 2', 'sars-CoV 2', 'sars-COV 2', 'sars-cov 2', 'Sars Cov 2', 'Sars CoV 2', 'Sars COV 2', 'Sars cov 2', 'SARS Cov 2', 'SARS CoV 2', 'SARS COV 2', 'SARS cov 2', 'sars Cov 2', 'sars CoV 2', 'sars COV 2', 'sars cov 2', 'Sars Cov2', 'Sars CoV2', 'Sars COV2', 'Sars cov2', 'SARS Cov2', 'SARS CoV2', 'SARS COV2', 'SARS cov2', 'sars Cov2', 'sars CoV2', 'sars COV2', 'sars cov2']\n",
      "['socio-economic', 'behavioral factors', 'economic impact', 'virus', 'covid19', 'covid-19', 'Covid19', 'Covid-19', 'COVID19', 'COVID-19', 'Sars-Cov-2', 'Sars-CoV-2', 'Sars-COV-2', 'Sars-cov-2', 'SARS-Cov-2', 'SARS-CoV-2', 'SARS-COV-2', 'SARS-cov-2', 'sars-Cov-2', 'sars-CoV-2', 'sars-COV-2', 'sars-cov-2', 'Sars Cov-2', 'Sars CoV-2', 'Sars COV-2', 'Sars cov-2', 'SARS Cov-2', 'SARS CoV-2', 'SARS COV-2', 'SARS cov-2', 'sars Cov-2', 'sars CoV-2', 'sars COV-2', 'sars cov-2', 'Sars-Cov 2', 'Sars-CoV 2', 'Sars-COV 2', 'Sars-cov 2', 'SARS-Cov 2', 'SARS-CoV 2', 'SARS-COV 2', 'SARS-cov 2', 'sars-Cov 2', 'sars-CoV 2', 'sars-COV 2', 'sars-cov 2', 'Sars Cov 2', 'Sars CoV 2', 'Sars COV 2', 'Sars cov 2', 'SARS Cov 2', 'SARS CoV 2', 'SARS COV 2', 'SARS cov 2', 'sars Cov 2', 'sars CoV 2', 'sars COV 2', 'sars cov 2', 'Sars Cov2', 'Sars CoV2', 'Sars COV2', 'Sars cov2', 'SARS Cov2', 'SARS CoV2', 'SARS COV2', 'SARS cov2', 'sars Cov2', 'sars CoV2', 'sars COV2', 'sars cov2']\n",
      "['transmission', 'dynamics', 'virus', 'basic reproductive number', 'incubation', 'serial interval', 'modes', 'transmission', 'environmental factors', 'covid19', 'covid-19', 'Covid19', 'Covid-19', 'COVID19', 'COVID-19', 'Sars-Cov-2', 'Sars-CoV-2', 'Sars-COV-2', 'Sars-cov-2', 'SARS-Cov-2', 'SARS-CoV-2', 'SARS-COV-2', 'SARS-cov-2', 'sars-Cov-2', 'sars-CoV-2', 'sars-COV-2', 'sars-cov-2', 'Sars Cov-2', 'Sars CoV-2', 'Sars COV-2', 'Sars cov-2', 'SARS Cov-2', 'SARS CoV-2', 'SARS COV-2', 'SARS cov-2', 'sars Cov-2', 'sars CoV-2', 'sars COV-2', 'sars cov-2', 'Sars-Cov 2', 'Sars-CoV 2', 'Sars-COV 2', 'Sars-cov 2', 'SARS-Cov 2', 'SARS-CoV 2', 'SARS-COV 2', 'SARS-cov 2', 'sars-Cov 2', 'sars-CoV 2', 'sars-COV 2', 'sars-cov 2', 'Sars Cov 2', 'Sars CoV 2', 'Sars COV 2', 'Sars cov 2', 'SARS Cov 2', 'SARS CoV 2', 'SARS COV 2', 'SARS cov 2', 'sars Cov 2', 'sars CoV 2', 'sars COV 2', 'sars cov 2', 'Sars Cov2', 'Sars CoV2', 'Sars COV2', 'Sars cov2', 'SARS Cov2', 'SARS CoV2', 'SARS COV2', 'SARS cov2', 'sars Cov2', 'sars CoV2', 'sars COV2', 'sars cov2']\n",
      "['severity of disease', 'risk', 'fatality', 'symptomatic', 'hospitalized', 'patients', 'high-risk', 'patient', 'covid19', 'covid-19', 'Covid19', 'Covid-19', 'COVID19', 'COVID-19', 'Sars-Cov-2', 'Sars-CoV-2', 'Sars-COV-2', 'Sars-cov-2', 'SARS-Cov-2', 'SARS-CoV-2', 'SARS-COV-2', 'SARS-cov-2', 'sars-Cov-2', 'sars-CoV-2', 'sars-COV-2', 'sars-cov-2', 'Sars Cov-2', 'Sars CoV-2', 'Sars COV-2', 'Sars cov-2', 'SARS Cov-2', 'SARS CoV-2', 'SARS COV-2', 'SARS cov-2', 'sars Cov-2', 'sars CoV-2', 'sars COV-2', 'sars cov-2', 'Sars-Cov 2', 'Sars-CoV 2', 'Sars-COV 2', 'Sars-cov 2', 'SARS-Cov 2', 'SARS-CoV 2', 'SARS-COV 2', 'SARS-cov 2', 'sars-Cov 2', 'sars-CoV 2', 'sars-COV 2', 'sars-cov 2', 'Sars Cov 2', 'Sars CoV 2', 'Sars COV 2', 'Sars cov 2', 'SARS Cov 2', 'SARS CoV 2', 'SARS COV 2', 'SARS cov 2', 'sars Cov 2', 'sars CoV 2', 'sars COV 2', 'sars cov 2', 'Sars Cov2', 'Sars CoV2', 'Sars COV2', 'Sars cov2', 'SARS Cov2', 'SARS CoV2', 'SARS COV2', 'SARS cov2', 'sars Cov2', 'sars CoV2', 'sars COV2', 'sars cov2']\n",
      "['susceptibility', 'populations', 'covid19', 'covid-19', 'Covid19', 'Covid-19', 'COVID19', 'COVID-19', 'Sars-Cov-2', 'Sars-CoV-2', 'Sars-COV-2', 'Sars-cov-2', 'SARS-Cov-2', 'SARS-CoV-2', 'SARS-COV-2', 'SARS-cov-2', 'sars-Cov-2', 'sars-CoV-2', 'sars-COV-2', 'sars-cov-2', 'Sars Cov-2', 'Sars CoV-2', 'Sars COV-2', 'Sars cov-2', 'SARS Cov-2', 'SARS CoV-2', 'SARS COV-2', 'SARS cov-2', 'sars Cov-2', 'sars CoV-2', 'sars COV-2', 'sars cov-2', 'Sars-Cov 2', 'Sars-CoV 2', 'Sars-COV 2', 'Sars-cov 2', 'SARS-Cov 2', 'SARS-CoV 2', 'SARS-COV 2', 'SARS-cov 2', 'sars-Cov 2', 'sars-CoV 2', 'sars-COV 2', 'sars-cov 2', 'Sars Cov 2', 'Sars CoV 2', 'Sars COV 2', 'Sars cov 2', 'SARS Cov 2', 'SARS CoV 2', 'SARS COV 2', 'SARS cov 2', 'sars Cov 2', 'sars CoV 2', 'sars COV 2', 'sars cov 2', 'Sars Cov2', 'Sars CoV2', 'Sars COV2', 'Sars cov2', 'SARS Cov2', 'SARS CoV2', 'SARS COV2', 'SARS cov2', 'sars Cov2', 'sars CoV2', 'sars COV2', 'sars cov2']\n",
      "['public health mitigation', 'measures', 'effective', 'control', 'covid19', 'covid-19', 'Covid19', 'Covid-19', 'COVID19', 'COVID-19', 'Sars-Cov-2', 'Sars-CoV-2', 'Sars-COV-2', 'Sars-cov-2', 'SARS-Cov-2', 'SARS-CoV-2', 'SARS-COV-2', 'SARS-cov-2', 'sars-Cov-2', 'sars-CoV-2', 'sars-COV-2', 'sars-cov-2', 'Sars Cov-2', 'Sars CoV-2', 'Sars COV-2', 'Sars cov-2', 'SARS Cov-2', 'SARS CoV-2', 'SARS COV-2', 'SARS cov-2', 'sars Cov-2', 'sars CoV-2', 'sars COV-2', 'sars cov-2', 'Sars-Cov 2', 'Sars-CoV 2', 'Sars-COV 2', 'Sars-cov 2', 'SARS-Cov 2', 'SARS-CoV 2', 'SARS-COV 2', 'SARS-cov 2', 'sars-Cov 2', 'sars-CoV 2', 'sars-COV 2', 'sars-cov 2', 'Sars Cov 2', 'Sars CoV 2', 'Sars COV 2', 'Sars cov 2', 'SARS Cov 2', 'SARS CoV 2', 'SARS COV 2', 'SARS cov 2', 'sars Cov 2', 'sars CoV 2', 'sars COV 2', 'sars cov 2', 'Sars Cov2', 'Sars CoV2', 'Sars COV2', 'Sars cov2', 'SARS Cov2', 'SARS CoV2', 'SARS COV2', 'SARS cov2', 'sars Cov2', 'sars CoV2', 'sars COV2', 'sars cov2']\n"
     ]
    }
   ],
   "source": [
    "for j in (pRnize(descp, i)for i in range(8)):\n",
    "    print(j)"
   ]
  },
  {
   "cell_type": "markdown",
   "metadata": {},
   "source": [
    "**Due to Sci-SpaCy model, 'pulmonary disease' is considered as a token.**"
   ]
  },
  {
   "cell_type": "code",
   "execution_count": 82,
   "metadata": {},
   "outputs": [],
   "source": [
    "class token(object):\n",
    "    def __init__(self, name):\n",
    "        self.name = name\n",
    "    def __repr__(self):\n",
    "        return self.name\n",
    "    def __str__(self):\n",
    "        return self.name"
   ]
  },
  {
   "cell_type": "code",
   "execution_count": 86,
   "metadata": {},
   "outputs": [
    {
     "data": {
      "text/plain": [
       "[[{LOWER: 'smoking'}], [{LOWER: 'pulmonary disease'}]]"
      ]
     },
     "execution_count": 86,
     "metadata": {},
     "output_type": "execute_result"
    }
   ],
   "source": [
    "def pRnize(dataF, indice):\n",
    "    mastlist = []\n",
    "    vocab = {}\n",
    "    for i in range(8):\n",
    "        factor = []\n",
    "        theme_sample = dataF[dataF['index'] == i].values[0][0]\n",
    "\n",
    "        text = theme_sample\n",
    "\n",
    "        doc = nlp(text) \n",
    "        \n",
    "        for item in doc.ents:\n",
    "            vocab = [{token('LOWER'): str(item).lower().strip('()')}]\n",
    "            \n",
    "            \n",
    "            factor.append(vocab)\n",
    "        mastlist.append(factor)\n",
    "    return mastlist[indice]\n",
    "\n",
    "pRnize(descp, 0)"
   ]
  },
  {
   "cell_type": "code",
   "execution_count": 87,
   "metadata": {},
   "outputs": [
    {
     "name": "stdout",
     "output_type": "stream",
     "text": [
      "[[{LOWER: 'smoking'}], [{LOWER: 'pulmonary disease'}]]\n",
      "[[{LOWER: 'coinfections'}], [{LOWER: 'coexisting'}], [{LOWER: 'respiratory'}], [{LOWER: 'viral infections'}], [{LOWER: 'virus'}], [{LOWER: 'transmissible'}], [{LOWER: 'virulent'}], [{LOWER: 'comorbidities'}]]\n",
      "[[{LOWER: 'neonates'}], [{LOWER: 'pregnant women'}]]\n",
      "[[{LOWER: 'socio-economic'}], [{LOWER: 'behavioral factors'}], [{LOWER: 'economic impact'}], [{LOWER: 'virus'}]]\n",
      "[[{LOWER: 'transmission'}], [{LOWER: 'dynamics'}], [{LOWER: 'virus'}], [{LOWER: 'basic reproductive number'}], [{LOWER: 'incubation'}], [{LOWER: 'serial interval'}], [{LOWER: 'modes'}], [{LOWER: 'transmission'}], [{LOWER: 'environmental factors'}]]\n",
      "[[{LOWER: 'severity of disease'}], [{LOWER: 'risk'}], [{LOWER: 'fatality'}], [{LOWER: 'symptomatic'}], [{LOWER: 'hospitalized'}], [{LOWER: 'patients'}], [{LOWER: 'high-risk'}], [{LOWER: 'patient'}]]\n",
      "[[{LOWER: 'susceptibility'}], [{LOWER: 'populations'}]]\n",
      "[[{LOWER: 'public health mitigation'}], [{LOWER: 'measures'}], [{LOWER: 'effective'}], [{LOWER: 'control'}]]\n"
     ]
    }
   ],
   "source": [
    "for j in (pRnize(descp, i)for i in range(8)):\n",
    "    print(j)"
   ]
  },
  {
   "cell_type": "markdown",
   "metadata": {},
   "source": [
    "### Patterns are ready!"
   ]
  },
  {
   "cell_type": "markdown",
   "metadata": {},
   "source": [
    "---"
   ]
  },
  {
   "cell_type": "markdown",
   "metadata": {},
   "source": [
    "# Phrase matching"
   ]
  },
  {
   "cell_type": "code",
   "execution_count": 9,
   "metadata": {},
   "outputs": [],
   "source": [
    "from spacy.matcher import Matcher\n",
    "nlp = spacy.load(\"en_core_sci_md\")\n",
    "m_tool = Matcher(nlp.vocab)"
   ]
  },
  {
   "cell_type": "code",
   "execution_count": 20,
   "metadata": {},
   "outputs": [],
   "source": [
    "smoking = [{'LOWER': 'smoking'}] \n",
    "pulmonary_dis = [{'LOWER': 'pulmonary'}, {'LOWER': 'disease'}]\n",
    "lung = [{'LOWER': 'lung'}]\n",
    "\n",
    "m_tool.add('Pulmonary', None, smoking, pulmonary_dis, lung)"
   ]
  },
  {
   "cell_type": "code",
   "execution_count": 21,
   "metadata": {},
   "outputs": [],
   "source": [
    "text = nlp(u'Chronic obstructive pulmonary disease (COPD) is a type of obstructive lung disease characterized by long-term breathing problems and poor airflow. The main symptoms include shortness of breath and cough with sputum production. COPD is a progressive disease, meaning it typically worsens over time. Smoking or smoke is a problem too.')"
   ]
  },
  {
   "cell_type": "code",
   "execution_count": 22,
   "metadata": {},
   "outputs": [
    {
     "name": "stdout",
     "output_type": "stream",
     "text": [
      "[(626681949659846149, 2, 4), (626681949659846149, 12, 13), (626681949659846149, 49, 50)]\n"
     ]
    }
   ],
   "source": [
    "phrase_matches = m_tool(text)\n",
    "print(phrase_matches )"
   ]
  },
  {
   "cell_type": "code",
   "execution_count": 23,
   "metadata": {},
   "outputs": [
    {
     "name": "stdout",
     "output_type": "stream",
     "text": [
      "626681949659846149 Pulmonary 2 4 pulmonary disease\n",
      "626681949659846149 Pulmonary 12 13 lung\n",
      "626681949659846149 Pulmonary 49 50 Smoking\n"
     ]
    }
   ],
   "source": [
    "for match_id, start, end in phrase_matches:\n",
    "    string_id = nlp.vocab.strings[match_id]  \n",
    "    span = text[start:end]                   \n",
    "    print(match_id, string_id, start, end, span.text)"
   ]
  },
  {
   "cell_type": "markdown",
   "metadata": {},
   "source": [
    "# Applying Matcher to the Document"
   ]
  },
  {
   "cell_type": "code",
   "execution_count": 215,
   "metadata": {},
   "outputs": [],
   "source": [
    "import os\n",
    "import json\n",
    "import glob\n",
    "\n",
    "# json files'path from each folder\n",
    "biomed_path = \"2020-03-13/biorxiv_medrxiv/biorxiv_medrxiv/\"  # bio and med archive\n",
    "commu_path = \"2020-03-13/comm_use_subset/comm_use_subset/\"\n",
    "noncom_path = \"2020-03-13/noncomm_use_subset/noncomm_use_subset/\"\n",
    "pmc_path = \"2020-03-13/pmc_custom_license/pmc_custom_license/\"\n",
    "\n",
    "biomed_fo = \"2020-03-13/biorxiv_medrxiv/biorxiv_medrxiv/*.json\"  # bio and med archive\n",
    "commu_fo = \"2020-03-13/comm_use_subset/comm_use_subset/*.json\"\n",
    "noncom_fo = \"2020-03-13/noncomm_use_subset/noncomm_use_subset/*.json\"\n",
    "pmc_fo = \"2020-03-13/pmc_custom_license/pmc_custom_license/*.json\"\n",
    "\n",
    "# json file access function\n",
    "def data_access(path):\n",
    "    d_acc = {}\n",
    "    for i in glob.glob(path):\n",
    "        # link = os.path.normpath(i)\n",
    "        # print(link)\n",
    "        \n",
    "        # loading json file function\n",
    "        with open(os.path.normpath(i)) as json_file:\n",
    "            data = json.load(json_file)\n",
    "            paper_id = data['paper_id']\n",
    "            \n",
    "            # text = [item['text'] for item in data['body_text']]\n",
    "            for item in data['body_text']:\n",
    "                text = (item['text'])\n",
    "                \n",
    "                d_acc[paper_id] = text\n",
    "    return d_acc"
   ]
  },
  {
   "cell_type": "code",
   "execution_count": 216,
   "metadata": {},
   "outputs": [],
   "source": [
    "# data_access(biomed_fo)"
   ]
  },
  {
   "cell_type": "code",
   "execution_count": 224,
   "metadata": {},
   "outputs": [],
   "source": [
    "def text_param(text_path, m_tool):\n",
    "    # print(data_access(text_path))\n",
    "    \n",
    "    for i in data_access(text_path):\n",
    "        article = nlp(i)\n",
    "    \n",
    "        phrase_matches = m_tool(u+article)\n",
    "        print(phrase_matches)"
   ]
  },
  {
   "cell_type": "code",
   "execution_count": 225,
   "metadata": {},
   "outputs": [
    {
     "ename": "NameError",
     "evalue": "name 'u' is not defined",
     "output_type": "error",
     "traceback": [
      "\u001b[0;31m---------------------------------------------------------------------------\u001b[0m",
      "\u001b[0;31mNameError\u001b[0m                                 Traceback (most recent call last)",
      "\u001b[0;32m<ipython-input-225-e2df78e89daf>\u001b[0m in \u001b[0;36m<module>\u001b[0;34m\u001b[0m\n\u001b[0;32m----> 1\u001b[0;31m \u001b[0mtext_param\u001b[0m\u001b[0;34m(\u001b[0m\u001b[0mpmc_fo\u001b[0m\u001b[0;34m,\u001b[0m \u001b[0mpulmonary\u001b[0m\u001b[0;34m)\u001b[0m\u001b[0;34m\u001b[0m\u001b[0;34m\u001b[0m\u001b[0m\n\u001b[0m",
      "\u001b[0;32m<ipython-input-224-78c26d001674>\u001b[0m in \u001b[0;36mtext_param\u001b[0;34m(text_path, m_tool)\u001b[0m\n\u001b[1;32m      5\u001b[0m         \u001b[0marticle\u001b[0m \u001b[0;34m=\u001b[0m \u001b[0mnlp\u001b[0m\u001b[0;34m(\u001b[0m\u001b[0mi\u001b[0m\u001b[0;34m)\u001b[0m\u001b[0;34m\u001b[0m\u001b[0;34m\u001b[0m\u001b[0m\n\u001b[1;32m      6\u001b[0m \u001b[0;34m\u001b[0m\u001b[0m\n\u001b[0;32m----> 7\u001b[0;31m         \u001b[0mphrase_matches\u001b[0m \u001b[0;34m=\u001b[0m \u001b[0mm_tool\u001b[0m\u001b[0;34m(\u001b[0m\u001b[0mu\u001b[0m\u001b[0;34m+\u001b[0m\u001b[0marticle\u001b[0m\u001b[0;34m)\u001b[0m\u001b[0;34m\u001b[0m\u001b[0;34m\u001b[0m\u001b[0m\n\u001b[0m\u001b[1;32m      8\u001b[0m         \u001b[0mprint\u001b[0m\u001b[0;34m(\u001b[0m\u001b[0mphrase_matches\u001b[0m\u001b[0;34m)\u001b[0m\u001b[0;34m\u001b[0m\u001b[0;34m\u001b[0m\u001b[0m\n",
      "\u001b[0;31mNameError\u001b[0m: name 'u' is not defined"
     ]
    }
   ],
   "source": [
    "text_param(pmc_fo, pulmonary)"
   ]
  },
  {
   "cell_type": "code",
   "execution_count": 130,
   "metadata": {},
   "outputs": [
    {
     "name": "stdout",
     "output_type": "stream",
     "text": [
      "[]\n"
     ]
    }
   ],
   "source": [
    "phrase_matches = m_tool(article)\n",
    "print(phrase_matches)"
   ]
  },
  {
   "cell_type": "code",
   "execution_count": null,
   "metadata": {},
   "outputs": [],
   "source": [
    "nlp = spacy.load(\"en_core_web_sm\")\n",
    "def match_it(theme, xviv):\n",
    "phMatch = PhraseMatcher(nlp.vocab)\n",
    "\n",
    "p = key_per_theme(fact_name, descp)[theme]\n",
    "\n",
    "patterns = [nlp(i) for i in p]\n",
    "\n",
    "phMatch.add(theme, None, *patterns)\n",
    "\n",
    "doc = nlp(xviv)\n",
    "\n",
    "mat = phMatch(doc)\n",
    "\n",
    "for match_id, start, end in mat:\n",
    "    string_id = nlp.vocab.strings[match_id]  \n",
    "    span = doc[start:end]\n",
    "    spant = doc[(start) : (end+8)]\n",
    "\n",
    "    print(\"\\n\\033[34mTHEME:\\033[00m\", string_id,\"-\\033[32mKEYWORDS\\033[00m:\", span.text)\n",
    "    cprint(spant.text, 'grey', attrs=['bold'], end='')\n",
    "    print()"
   ]
  }
 ],
 "metadata": {
  "kernelspec": {
   "display_name": "c19",
   "language": "python",
   "name": "c19"
  },
  "language_info": {
   "codemirror_mode": {
    "name": "ipython",
    "version": 3
   },
   "file_extension": ".py",
   "mimetype": "text/x-python",
   "name": "python",
   "nbconvert_exporter": "python",
   "pygments_lexer": "ipython3",
   "version": "3.6.8"
  }
 },
 "nbformat": 4,
 "nbformat_minor": 2
}
