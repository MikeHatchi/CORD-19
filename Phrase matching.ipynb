{
 "cells": [
  {
   "cell_type": "code",
   "execution_count": 2,
   "metadata": {},
   "outputs": [],
   "source": [
    "import scispacy\n",
    "import spacy\n",
    "from spacy import displacy\n",
    "\n",
    "nlp = spacy.load(\"en_core_sci_md\")\n",
    "\n",
    "from spacy.matcher import Matcher\n",
    "m_tool = Matcher(nlp.vocab)"
   ]
  },
  {
   "cell_type": "markdown",
   "metadata": {},
   "source": [
    "Smoking = [{LOWER: 'Smoking'}]\n",
    "preexisting = [{LOWER: 'preexisting'}]\n",
    "[{LOWER: 'pulmonary disease'}]\n",
    "\n",
    "m_tool.add('Pulmonary', None, smoking, preexist, pulmonary_dis)\n",
    "\n",
    "[{LOWER: 'Coinfections'}]\n",
    "[{LOWER: 'coexisting'}]\n",
    "[{LOWER: 'respiratory'}]\n",
    "[{LOWER: 'viral infections'}]\n",
    "[{LOWER: 'virus'}]\n",
    "[{LOWER: 'virulent'}]\n",
    "[{LOWER: 'comorbidities'}]\n",
    "\n",
    "m_tool.add('Coinfections', None, smoking, preexist, pulmonary_dis)\n",
    "\n",
    "[{LOWER: 'Neonates'}]\n",
    "[{LOWER: 'pregnant women'}]\n",
    "\n",
    "m_tool.add('Pulmonary', None, smoking, preexist, pulmonary_dis)\n",
    "\n",
    "[{LOWER: 'Socio-economic'}]\n",
    "[{LOWER: 'behavioral factors'}]\n",
    "[{LOWER: 'economic'}]\n",
    "[{LOWER: 'impact'}]\n",
    "[{LOWER: 'virus'}]\n",
    "\n",
    "m_tool.add('Pulmonary', None, smoking, preexist, pulmonary_dis)\n",
    "\n",
    "[{LOWER: 'Transmission'}]\n",
    "[{LOWER: 'dynamics'}]\n",
    "[{LOWER: 'virus'}]\n",
    "[{LOWER: 'incubation'}]\n",
    "[{LOWER: 'serial interval'}]\n",
    "[{LOWER: 'modes'}]\n",
    "[{LOWER: 'transmission'}]\n",
    "[{LOWER: 'environmental factors'}]\n",
    "\n",
    "m_tool.add('Pulmonary', None, smoking, preexist, pulmonary_dis)\n",
    "\n",
    "[{LOWER: 'Severity'}]\n",
    "[{LOWER: 'disease'}]\n",
    "[{LOWER: 'risk'}]\n",
    "[{LOWER: 'fatality'}]\n",
    "[{LOWER: 'symptomatic'}]\n",
    "[{LOWER: 'hospitalized'}]\n",
    "[{LOWER: 'patients'}]\n",
    "[{LOWER: 'high-risk'}]\n",
    "[{LOWER: 'patient'}]\n",
    "\n",
    "m_tool.add('Pulmonary', None, smoking, preexist, pulmonary_dis)\n",
    "\n",
    "[{LOWER: 'Susceptibility'}]\n",
    "[{LOWER: 'populations'}]\n",
    "\n",
    "\n",
    "[{LOWER: 'Public health mitigation'}]\n",
    "\n",
    "[{LOWER: 'measures'}]\n",
    "[{LOWER: 'effective'}]\n",
    "[{LOWER: 'control'}]\n",
    "\n",
    "m_tool.add('Pulmonary', None, smoking, preexist, pulmonary_dis)"
   ]
  },
  {
   "cell_type": "code",
   "execution_count": 31,
   "metadata": {},
   "outputs": [],
   "source": [
    "nlp = spacy.load(\"en_core_sci_md\")\n",
    "\n",
    "from spacy.matcher import Matcher\n",
    "m_tool = Matcher(nlp.vocab)\n",
    "\n",
    "p1 = [{'LOWER': 'smoking'}] \n",
    "p2 = [{'LOWER': 'preexisting'}]\n",
    "p3 = [{'LOWER': 'pulmonary'}, {'LOWER': 'disease'}]\n",
    "# chronic = [{'LOWER': 'chronic'}]\n",
    "\n",
    "m_tool.add('pulmonary', None, p1, p2, p3)"
   ]
  },
  {
   "cell_type": "code",
   "execution_count": 32,
   "metadata": {},
   "outputs": [],
   "source": [
    "text = nlp(u'Chronic obstructive pulmonary disease (COPD) is a type of obstructive \\\n",
    "lung disease characterized by long-term breathing problems preexisting and poor airflow. \\\n",
    "The main symptoms include shortness of breath and cough with sputum production. \\\n",
    "COPD is a progressive disease, meaning it typically worsens over time. Smocking or smoking')"
   ]
  },
  {
   "cell_type": "code",
   "execution_count": 33,
   "metadata": {},
   "outputs": [
    {
     "name": "stdout",
     "output_type": "stream",
     "text": [
      "[(15767800522642418429, 2, 4), (15767800522642418429, 19, 20), (15767800522642418429, 52, 53)]\n"
     ]
    }
   ],
   "source": [
    "phrase_matches = m_tool(text)\n",
    "print(phrase_matches )"
   ]
  },
  {
   "cell_type": "code",
   "execution_count": 34,
   "metadata": {},
   "outputs": [
    {
     "name": "stdout",
     "output_type": "stream",
     "text": [
      "15767800522642418429 pulmonary 2 4 pulmonary disease\n",
      "15767800522642418429 pulmonary 19 20 preexisting\n",
      "15767800522642418429 pulmonary 52 53 smoking\n"
     ]
    }
   ],
   "source": [
    "for match_id, start, end in phrase_matches:\n",
    "    string_id = nlp.vocab.strings[match_id]  \n",
    "    span = text[start:end]                   \n",
    "    print(match_id, string_id, start, end, span.text)"
   ]
  },
  {
   "cell_type": "markdown",
   "metadata": {},
   "source": [
    "## Phrases' coordinates >> text tag visualization"
   ]
  },
  {
   "cell_type": "code",
   "execution_count": null,
   "metadata": {},
   "outputs": [],
   "source": []
  }
 ],
 "metadata": {
  "kernelspec": {
   "display_name": "c19",
   "language": "python",
   "name": "c19"
  },
  "language_info": {
   "codemirror_mode": {
    "name": "ipython",
    "version": 3
   },
   "file_extension": ".py",
   "mimetype": "text/x-python",
   "name": "python",
   "nbconvert_exporter": "python",
   "pygments_lexer": "ipython3",
   "version": "3.6.8"
  }
 },
 "nbformat": 4,
 "nbformat_minor": 2
}
